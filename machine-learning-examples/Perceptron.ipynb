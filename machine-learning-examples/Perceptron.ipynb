{
 "cells": [
  {
   "cell_type": "code",
   "execution_count": 1,
   "metadata": {
    "collapsed": true
   },
   "outputs": [],
   "source": [
    "import numpy as np\n",
    "import pandas as pd"
   ]
  },
  {
   "cell_type": "code",
   "execution_count": 8,
   "metadata": {
    "collapsed": false
   },
   "outputs": [
    {
     "data": {
      "text/plain": [
       "<__main__.Perceptron at 0x1092357d0>"
      ]
     },
     "execution_count": 8,
     "metadata": {},
     "output_type": "execute_result"
    }
   ],
   "source": [
    "class Perceptron(object):\n",
    "    def __init(self):\n",
    "        super(Perceptron, object).__init(self)\n",
    "    \n",
    "    def fit(self, X, Y, eta=0.001, iterations=100):\n",
    "        self.w_ = np.zeros(1 + X.shape[1])\n",
    "        \n",
    "        self.errors_ = []\n",
    "        for _ in range(iterations):\n",
    "            errors = 0\n",
    "            for xi, target in zip(X, y):\n",
    "                \n",
    "                update = eta * (target - self.predict(xi))\n",
    "#                 if iterations % 20 == 0:\n",
    "#                     print \"w: {}, xi: {}, target: {}, update: {}\".format(\n",
    "#                        self.w_, xi, target, update)\n",
    "                self.w_[1:] += update * xi\n",
    "                self.w_[0] += update\n",
    "                errors += float(update != 0.0)\n",
    "            #print \"errors: \", errors\n",
    "            self.errors_.append(errors)\n",
    "        return self\n",
    "    \n",
    "    def net_input(self, X):\n",
    "        \"\"\"Calculate net input\"\"\"\n",
    "#         print \"net input:\"\n",
    "#         print X, self.w_[1:]\n",
    "#         print \"end of net input\"\n",
    "        return np.dot(X, self.w_[1:]) + self.w_[0]\n",
    "    \n",
    "    def predict(self, X):\n",
    "        return np.where(self.net_input(X) >= 0.0, 1, -1)\n",
    "\n",
    "    \n",
    "p = Perceptron()\n",
    "p.fit(x, y)"
   ]
  },
  {
   "cell_type": "code",
   "execution_count": 36,
   "metadata": {
    "collapsed": false
   },
   "outputs": [
    {
     "data": {
      "text/html": [
       "<div>\n",
       "<table border=\"1\" class=\"dataframe\">\n",
       "  <thead>\n",
       "    <tr style=\"text-align: right;\">\n",
       "      <th></th>\n",
       "      <th>sl</th>\n",
       "      <th>sw</th>\n",
       "      <th>pl</th>\n",
       "      <th>pw</th>\n",
       "      <th>c</th>\n",
       "    </tr>\n",
       "  </thead>\n",
       "  <tbody>\n",
       "    <tr>\n",
       "      <th>73</th>\n",
       "      <td>6.1</td>\n",
       "      <td>2.8</td>\n",
       "      <td>4.7</td>\n",
       "      <td>1.2</td>\n",
       "      <td>2</td>\n",
       "    </tr>\n",
       "    <tr>\n",
       "      <th>17</th>\n",
       "      <td>5.1</td>\n",
       "      <td>3.5</td>\n",
       "      <td>1.4</td>\n",
       "      <td>0.3</td>\n",
       "      <td>1</td>\n",
       "    </tr>\n",
       "    <tr>\n",
       "      <th>83</th>\n",
       "      <td>6.0</td>\n",
       "      <td>2.7</td>\n",
       "      <td>5.1</td>\n",
       "      <td>1.6</td>\n",
       "      <td>2</td>\n",
       "    </tr>\n",
       "    <tr>\n",
       "      <th>5</th>\n",
       "      <td>5.4</td>\n",
       "      <td>3.9</td>\n",
       "      <td>1.7</td>\n",
       "      <td>0.4</td>\n",
       "      <td>1</td>\n",
       "    </tr>\n",
       "    <tr>\n",
       "      <th>22</th>\n",
       "      <td>4.6</td>\n",
       "      <td>3.6</td>\n",
       "      <td>1.0</td>\n",
       "      <td>0.2</td>\n",
       "      <td>1</td>\n",
       "    </tr>\n",
       "  </tbody>\n",
       "</table>\n",
       "</div>"
      ],
      "text/plain": [
       "     sl   sw   pl   pw  c\n",
       "73  6.1  2.8  4.7  1.2  2\n",
       "17  5.1  3.5  1.4  0.3  1\n",
       "83  6.0  2.7  5.1  1.6  2\n",
       "5   5.4  3.9  1.7  0.4  1\n",
       "22  4.6  3.6  1.0  0.2  1"
      ]
     },
     "execution_count": 36,
     "metadata": {},
     "output_type": "execute_result"
    }
   ],
   "source": [
    "df = pd.read_csv(\"data/iris.txt\", delimiter=\" \")\n",
    "df.sample(5)"
   ]
  },
  {
   "cell_type": "code",
   "execution_count": 4,
   "metadata": {
    "collapsed": false
   },
   "outputs": [
    {
     "data": {
      "text/plain": [
       "(array([[ 1.4,  0.2],\n",
       "        [ 1.4,  0.2],\n",
       "        [ 1.3,  0.2],\n",
       "        [ 1.5,  0.2],\n",
       "        [ 1.4,  0.2],\n",
       "        [ 1.7,  0.4],\n",
       "        [ 1.4,  0.3],\n",
       "        [ 1.5,  0.2],\n",
       "        [ 1.4,  0.2],\n",
       "        [ 1.5,  0.1],\n",
       "        [ 1.5,  0.2],\n",
       "        [ 1.6,  0.2],\n",
       "        [ 1.4,  0.1],\n",
       "        [ 1.1,  0.1],\n",
       "        [ 1.2,  0.2],\n",
       "        [ 1.5,  0.4],\n",
       "        [ 1.3,  0.4],\n",
       "        [ 1.4,  0.3],\n",
       "        [ 1.7,  0.3],\n",
       "        [ 1.5,  0.3],\n",
       "        [ 1.7,  0.2],\n",
       "        [ 1.5,  0.4],\n",
       "        [ 1. ,  0.2],\n",
       "        [ 1.7,  0.5],\n",
       "        [ 1.9,  0.2],\n",
       "        [ 1.6,  0.2],\n",
       "        [ 1.6,  0.4],\n",
       "        [ 1.5,  0.2],\n",
       "        [ 1.4,  0.2],\n",
       "        [ 1.6,  0.2],\n",
       "        [ 1.6,  0.2],\n",
       "        [ 1.5,  0.4],\n",
       "        [ 1.5,  0.1],\n",
       "        [ 1.4,  0.2],\n",
       "        [ 1.5,  0.1],\n",
       "        [ 1.2,  0.2],\n",
       "        [ 1.3,  0.2],\n",
       "        [ 1.5,  0.1],\n",
       "        [ 1.3,  0.2],\n",
       "        [ 1.5,  0.2],\n",
       "        [ 1.3,  0.3],\n",
       "        [ 1.3,  0.3],\n",
       "        [ 1.3,  0.2],\n",
       "        [ 1.6,  0.6],\n",
       "        [ 1.9,  0.4],\n",
       "        [ 1.4,  0.3],\n",
       "        [ 1.6,  0.2],\n",
       "        [ 1.4,  0.2],\n",
       "        [ 1.5,  0.2],\n",
       "        [ 1.4,  0.2],\n",
       "        [ 4.7,  1.4],\n",
       "        [ 4.5,  1.5],\n",
       "        [ 4.9,  1.5],\n",
       "        [ 4. ,  1.3],\n",
       "        [ 4.6,  1.5],\n",
       "        [ 4.5,  1.3],\n",
       "        [ 4.7,  1.6],\n",
       "        [ 3.3,  1. ],\n",
       "        [ 4.6,  1.3],\n",
       "        [ 3.9,  1.4],\n",
       "        [ 3.5,  1. ],\n",
       "        [ 4.2,  1.5],\n",
       "        [ 4. ,  1. ],\n",
       "        [ 4.7,  1.4],\n",
       "        [ 3.6,  1.3],\n",
       "        [ 4.4,  1.4],\n",
       "        [ 4.5,  1.5],\n",
       "        [ 4.1,  1. ],\n",
       "        [ 4.5,  1.5],\n",
       "        [ 3.9,  1.1],\n",
       "        [ 4.8,  1.8],\n",
       "        [ 4. ,  1.3],\n",
       "        [ 4.9,  1.5],\n",
       "        [ 4.7,  1.2],\n",
       "        [ 4.3,  1.3],\n",
       "        [ 4.4,  1.4],\n",
       "        [ 4.8,  1.4],\n",
       "        [ 5. ,  1.7],\n",
       "        [ 4.5,  1.5],\n",
       "        [ 3.5,  1. ],\n",
       "        [ 3.8,  1.1],\n",
       "        [ 3.7,  1. ],\n",
       "        [ 3.9,  1.2],\n",
       "        [ 5.1,  1.6],\n",
       "        [ 4.5,  1.5],\n",
       "        [ 4.5,  1.6],\n",
       "        [ 4.7,  1.5],\n",
       "        [ 4.4,  1.3],\n",
       "        [ 4.1,  1.3],\n",
       "        [ 4. ,  1.3],\n",
       "        [ 4.4,  1.2],\n",
       "        [ 4.6,  1.4],\n",
       "        [ 4. ,  1.2],\n",
       "        [ 3.3,  1. ],\n",
       "        [ 4.2,  1.3],\n",
       "        [ 4.2,  1.2],\n",
       "        [ 4.2,  1.3],\n",
       "        [ 4.3,  1.3],\n",
       "        [ 3. ,  1.1],\n",
       "        [ 4.1,  1.3]]),\n",
       " array([1, 1, 1, 1, 1, 1, 1, 1, 1, 1, 1, 1, 1, 1, 1, 1, 1, 1, 1, 1, 1, 1, 1,\n",
       "        1, 1, 1, 1, 1, 1, 1, 1, 1, 1, 1, 1, 1, 1, 1, 1, 1, 1, 1, 1, 1, 1, 1,\n",
       "        1, 1, 1, 1, 2, 2, 2, 2, 2, 2, 2, 2, 2, 2, 2, 2, 2, 2, 2, 2, 2, 2, 2,\n",
       "        2, 2, 2, 2, 2, 2, 2, 2, 2, 2, 2, 2, 2, 2, 2, 2, 2, 2, 2, 2, 2, 2, 2,\n",
       "        2, 2, 2, 2, 2, 2, 2, 2]))"
      ]
     },
     "execution_count": 4,
     "metadata": {},
     "output_type": "execute_result"
    }
   ],
   "source": [
    "y = df.iloc[0:100, 4].values\n",
    "x = df.iloc[0:100, [2, 3]].values\n",
    "x, y"
   ]
  },
  {
   "cell_type": "code",
   "execution_count": null,
   "metadata": {
    "collapsed": true
   },
   "outputs": [],
   "source": []
  },
  {
   "cell_type": "code",
   "execution_count": null,
   "metadata": {
    "collapsed": false
   },
   "outputs": [],
   "source": []
  },
  {
   "cell_type": "code",
   "execution_count": null,
   "metadata": {
    "collapsed": true
   },
   "outputs": [],
   "source": []
  }
 ],
 "metadata": {
  "kernelspec": {
   "display_name": "Python 2",
   "language": "python",
   "name": "python2"
  },
  "language_info": {
   "codemirror_mode": {
    "name": "ipython",
    "version": 2
   },
   "file_extension": ".py",
   "mimetype": "text/x-python",
   "name": "python",
   "nbconvert_exporter": "python",
   "pygments_lexer": "ipython2",
   "version": "2.7.10"
  }
 },
 "nbformat": 4,
 "nbformat_minor": 0
}
