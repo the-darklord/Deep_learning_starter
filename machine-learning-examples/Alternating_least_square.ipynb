{
 "cells": [
  {
   "cell_type": "markdown",
   "metadata": {
    "deletable": true,
    "editable": true
   },
   "source": [
    "# Alternating Least Square"
   ]
  },
  {
   "cell_type": "code",
   "execution_count": 2,
   "metadata": {
    "collapsed": true,
    "deletable": true,
    "editable": true
   },
   "outputs": [],
   "source": [
    "import numpy as np\n",
    "import pandas as pd\n",
    "from matplotlib import pylab as plt\n",
    "import time\n",
    "%matplotlib inline"
   ]
  },
  {
   "cell_type": "code",
   "execution_count": 3,
   "metadata": {
    "collapsed": false,
    "deletable": true,
    "editable": true
   },
   "outputs": [
    {
     "name": "stdout",
     "output_type": "stream",
     "text": [
      "[[-1.21484324 -0.04838232]\n",
      " [-0.28746379 -1.26890843]\n",
      " [-2.33077118 -0.86539365]]\n",
      "[[ 2.5809738  -0.36618532 -1.59245333  0.52606297 -0.45481611]\n",
      " [-0.73261514 -0.03034256 -0.94484371 -0.32557128  0.31137637]]\n"
     ]
    }
   ],
   "source": [
    "## Y = A*B\n",
    "\n",
    "M = 3\n",
    "N = 5\n",
    "K = 2\n",
    "\n",
    "A_true = np.mat(np.random.randn(M, K))\n",
    "B_true = np.mat(np.random.randn(K, N))\n",
    "print(A_true)\n",
    "print(B_true)"
   ]
  },
  {
   "cell_type": "code",
   "execution_count": 4,
   "metadata": {
    "collapsed": false,
    "deletable": true,
    "editable": true
   },
   "outputs": [
    {
     "data": {
      "text/plain": [
       "matrix([[-3.10003294,  0.4463258 ,  1.98029488, -0.62333215,  0.53746517],\n",
       "        [ 0.18768502,  0.14376695,  1.65669281,  0.26189609, -0.26436493],\n",
       "        [-5.38165887,  0.87975244,  4.52930607, -0.9443851 ,  0.79060916]])"
      ]
     },
     "execution_count": 4,
     "metadata": {},
     "output_type": "execute_result"
    }
   ],
   "source": [
    "Y = A_true * B_true\n",
    "Y"
   ]
  },
  {
   "cell_type": "code",
   "execution_count": 5,
   "metadata": {
    "collapsed": false,
    "deletable": true,
    "editable": true
   },
   "outputs": [
    {
     "data": {
      "text/plain": [
       "matrix([[ 2.5809738 , -0.36618532, -1.59245333,  0.52606297, -0.45481611],\n",
       "        [-0.73261514, -0.03034256, -0.94484371, -0.32557128,  0.31137637]])"
      ]
     },
     "execution_count": 5,
     "metadata": {},
     "output_type": "execute_result"
    }
   ],
   "source": [
    "B = A_true.I * Y\n",
    "B"
   ]
  },
  {
   "cell_type": "code",
   "execution_count": 6,
   "metadata": {
    "collapsed": false,
    "deletable": true,
    "editable": true
   },
   "outputs": [],
   "source": []
  },
  {
   "cell_type": "code",
   "execution_count": 7,
   "metadata": {
    "collapsed": true,
    "deletable": true,
    "editable": true
   },
   "outputs": [],
   "source": []
  },
  {
   "cell_type": "code",
   "execution_count": 8,
   "metadata": {
    "collapsed": false,
    "deletable": true,
    "editable": true
   },
   "outputs": [
    {
     "data": {
      "text/plain": [
       "matrix([[ 2.81930616, -1.16777074, -0.75075461,  4.11140669],\n",
       "        [-2.23243292,  1.67940427, -1.45611726,  2.4167917 ],\n",
       "        [-0.47924649,  0.7240146 , -0.42121213,  2.9992647 ],\n",
       "        [-0.26453334, -0.03093931, -0.10407464, -2.18723647]])"
      ]
     },
     "execution_count": 8,
     "metadata": {},
     "output_type": "execute_result"
    }
   ],
   "source": [
    "U * M"
   ]
  },
  {
   "cell_type": "code",
   "execution_count": 9,
   "metadata": {
    "collapsed": false,
    "deletable": true,
    "editable": true
   },
   "outputs": [
    {
     "data": {
      "text/plain": [
       "matrix([[ 0.61990172,  1.14702424,  0.72399525, -0.83033268,  0.49684847,\n",
       "         -1.19278353,  0.24295516,  0.08382553,  0.02033281, -0.93687543],\n",
       "        [ 0.5324797 , -0.3902074 , -0.79594402, -1.20434216, -0.75490146,\n",
       "          0.55632023,  1.66170454, -1.76342203,  0.21643463, -0.24178323],\n",
       "        [-0.99396494,  0.62709088, -0.05774733, -0.78453276, -1.06070693,\n",
       "         -1.07044867,  0.62747602,  0.53446778, -0.44097795, -0.23960225],\n",
       "        [ 0.94572044, -0.44020372, -0.73421287, -0.19860962,  1.24212543,\n",
       "          1.19974624, -0.06604063, -0.81539128, -0.22041883, -0.30599612]])"
      ]
     },
     "execution_count": 9,
     "metadata": {},
     "output_type": "execute_result"
    }
   ],
   "source": [
    "U"
   ]
  },
  {
   "cell_type": "code",
   "execution_count": 10,
   "metadata": {
    "collapsed": false,
    "deletable": true,
    "editable": true
   },
   "outputs": [
    {
     "data": {
      "text/plain": [
       "matrix([[-0.13002397, -0.34584708,  0.48927543,  0.34997509],\n",
       "        [-0.74952918, -1.1954488 , -0.34901751,  0.98857112],\n",
       "        [ 1.55863349,  0.53371217, -0.64006659,  0.2568413 ],\n",
       "        [ 1.19896162, -1.43919556,  0.02838537, -0.089313  ],\n",
       "        [ 1.48640297, -0.45115731, -0.24884043, -0.62280481],\n",
       "        [-0.45781105,  0.46390734,  0.19706631, -1.60131805],\n",
       "        [ 1.71681563, -0.09823042, -0.33815042,  0.9298259 ],\n",
       "        [ 1.00524998,  0.10167474,  1.2740006 , -0.77658219],\n",
       "        [ 0.23882929, -0.34020008,  0.66169194,  0.134848  ],\n",
       "        [-1.95961244,  0.38834324, -0.16421577, -0.78590332]])"
      ]
     },
     "execution_count": 10,
     "metadata": {},
     "output_type": "execute_result"
    }
   ],
   "source": [
    "M"
   ]
  },
  {
   "cell_type": "code",
   "execution_count": 11,
   "metadata": {
    "collapsed": true,
    "deletable": true,
    "editable": true
   },
   "outputs": [],
   "source": [
    "U = A * M.I"
   ]
  },
  {
   "cell_type": "code",
   "execution_count": 12,
   "metadata": {
    "collapsed": true,
    "deletable": true,
    "editable": true
   },
   "outputs": [],
   "source": [
    "M = U.I * A"
   ]
  },
  {
   "cell_type": "code",
   "execution_count": 13,
   "metadata": {
    "collapsed": false,
    "deletable": true,
    "editable": true
   },
   "outputs": [
    {
     "data": {
      "text/plain": [
       "matrix([[ 1.07011144, -0.4519106 , -0.08838942, -1.78034151, -1.99311797,\n",
       "         -1.74226411,  0.83524173,  1.21926452,  1.04893798, -1.18776432],\n",
       "        [ 2.77651471, -0.90313191, -0.55161375, -4.07060103, -4.85962699,\n",
       "         -4.2271474 ,  1.8674498 ,  3.18092834,  2.74723607, -2.88458133],\n",
       "        [ 2.57404251, -1.35642107,  0.10966667, -4.83110653, -5.10596288,\n",
       "         -4.48417314,  2.30875886,  2.91539424,  2.49745384, -3.05424027]])"
      ]
     },
     "execution_count": 13,
     "metadata": {},
     "output_type": "execute_result"
    }
   ],
   "source": [
    "U"
   ]
  },
  {
   "cell_type": "code",
   "execution_count": 14,
   "metadata": {
    "collapsed": false,
    "deletable": true,
    "editable": true
   },
   "outputs": [
    {
     "data": {
      "text/plain": [
       "matrix([[-0.14210157, -0.28420314,  0.53678994,  0.25258681],\n",
       "        [-0.26210432, -0.52420863,  0.29818929, -0.22601934],\n",
       "        [ 0.39708113,  0.79416226, -0.67224602,  0.12191624],\n",
       "        [-0.41963405, -0.8392681 ,  0.17595793, -0.66331017],\n",
       "        [-0.10805474, -0.21610949, -0.39244521, -0.60855469],\n",
       "        [-0.11938126, -0.23876253, -0.30243527, -0.5411978 ],\n",
       "        [ 0.24739988,  0.49479976, -0.16488726,  0.32991249],\n",
       "        [-0.18273735, -0.3654747 ,  0.64554941,  0.28007471],\n",
       "        [-0.16996895, -0.3399379 ,  0.57615962,  0.23622172],\n",
       "        [-0.07805965, -0.15611929, -0.21160209, -0.36772138]])"
      ]
     },
     "execution_count": 14,
     "metadata": {},
     "output_type": "execute_result"
    }
   ],
   "source": [
    "M"
   ]
  },
  {
   "cell_type": "code",
   "execution_count": 15,
   "metadata": {
    "collapsed": false,
    "deletable": true,
    "editable": true
   },
   "outputs": [
    {
     "data": {
      "text/plain": [
       "matrix([[  1.,   2.,   3.,   5.],\n",
       "        [  2.,   4.,   8.,  12.],\n",
       "        [  3.,   6.,   7.,  13.]])"
      ]
     },
     "execution_count": 15,
     "metadata": {},
     "output_type": "execute_result"
    }
   ],
   "source": [
    "U * M"
   ]
  },
  {
   "cell_type": "markdown",
   "metadata": {
    "deletable": true,
    "editable": true
   },
   "source": [
    "### Example: Documents vs Words"
   ]
  },
  {
   "cell_type": "code",
   "execution_count": 234,
   "metadata": {
    "collapsed": true,
    "deletable": true,
    "editable": true
   },
   "outputs": [],
   "source": [
    "A = np.mat([\n",
    "    # colums: words, rows: documents\n",
    " # the, a, sparse, love, war, gun\n",
    "    [21, 22,  0, 70, 10, 6],\n",
    "    [22, 21,  0, 70, 10, 6],\n",
    "    [20, 23,  0,  0, 10, 6],\n",
    "    [22, 24, 65,  0, 10, 6],\n",
    "    [21, 22, 65,  0, 10, 6],\n",
    "])"
   ]
  },
  {
   "cell_type": "code",
   "execution_count": 17,
   "metadata": {
    "collapsed": false,
    "deletable": true,
    "editable": true
   },
   "outputs": [
    {
     "data": {
      "text/plain": [
       "array([ 118.04858064,   95.16309661,   26.47771342,    1.10092841,\n",
       "          0.4861085 ])"
      ]
     },
     "execution_count": 17,
     "metadata": {},
     "output_type": "execute_result"
    }
   ],
   "source": [
    "np.linalg.svd(A)[1]"
   ]
  },
  {
   "cell_type": "code",
   "execution_count": 18,
   "metadata": {
    "collapsed": false,
    "deletable": true,
    "editable": true
   },
   "outputs": [
    {
     "data": {
      "text/plain": [
       "array([ 118.04858064,   95.16309661,   26.47771342,    1.10092841,\n",
       "          0.4861085 ])"
      ]
     },
     "execution_count": 18,
     "metadata": {},
     "output_type": "execute_result"
    }
   ],
   "source": [
    "np.linalg.svd(A)[1]"
   ]
  },
  {
   "cell_type": "code",
   "execution_count": 19,
   "metadata": {
    "collapsed": false,
    "deletable": true,
    "editable": true
   },
   "outputs": [
    {
     "data": {
      "text/plain": [
       "array([ 118.04858064,   95.16309661,   26.47771342,    1.10092841,\n",
       "          0.4861085 ])"
      ]
     },
     "execution_count": 19,
     "metadata": {},
     "output_type": "execute_result"
    }
   ],
   "source": [
    "np.linalg.svd(A)[1]"
   ]
  },
  {
   "cell_type": "code",
   "execution_count": 20,
   "metadata": {
    "collapsed": false,
    "deletable": true,
    "editable": true
   },
   "outputs": [
    {
     "ename": "SyntaxError",
     "evalue": "invalid syntax (<ipython-input-20-e7f16e8da997>, line 1)",
     "output_type": "error",
     "traceback": [
      "\u001b[0;36m  File \u001b[0;32m\"<ipython-input-20-e7f16e8da997>\"\u001b[0;36m, line \u001b[0;32m1\u001b[0m\n\u001b[0;31m    np.linalg.svd(A)[0][0] np.linalg.svd(A)[1][0]\u001b[0m\n\u001b[0m                            ^\u001b[0m\n\u001b[0;31mSyntaxError\u001b[0m\u001b[0;31m:\u001b[0m invalid syntax\n"
     ]
    }
   ],
   "source": [
    "np.linalg.svd(A)[0][0] np.linalg.svd(A)[1][0]"
   ]
  },
  {
   "cell_type": "code",
   "execution_count": 21,
   "metadata": {
    "collapsed": false,
    "deletable": true,
    "editable": true
   },
   "outputs": [
    {
     "data": {
      "text/plain": [
       "matrix([[ 24.98898798,  25.96960455,  30.65397044,  42.46979635,\n",
       "          11.68439831,   7.01063899],\n",
       "        [ 24.98319204,  25.96358117,  30.64686056,  42.45994591,\n",
       "          11.68168824,   7.00901294],\n",
       "        [  7.42352669,   7.71484034,   9.10643392,  12.61658404,\n",
       "           3.47110667,   2.082664  ],\n",
       "        [ 19.64914502,  20.42021575,  24.10358959,  33.39451714,\n",
       "           9.18758443,   5.51255066],\n",
       "        [ 19.1944605 ,  19.94768852,  23.54582847,  32.62176239,\n",
       "           8.97498218,   5.38498931]])"
      ]
     },
     "execution_count": 21,
     "metadata": {},
     "output_type": "execute_result"
    }
   ],
   "source": [
    "np.linalg.svd(A)[0][:,0] * np.linalg.svd(A)[1][0] * np.linalg.svd(A)[2][0]"
   ]
  },
  {
   "cell_type": "code",
   "execution_count": 22,
   "metadata": {
    "collapsed": false,
    "deletable": true,
    "editable": true
   },
   "outputs": [],
   "source": [
    "def reconstruct(A, k=1):\n",
    "    return np.linalg.svd(A)[0][:,:k]  * np.diag(np.linalg.svd(A)[1][:k]) * np.linalg.svd(A)[2][:k]"
   ]
  },
  {
   "cell_type": "code",
   "execution_count": 23,
   "metadata": {
    "collapsed": false,
    "deletable": true,
    "editable": true
   },
   "outputs": [
    {
     "data": {
      "text/plain": [
       "matrix([[ 24.98898798,  25.96960455,  30.65397044,  42.46979635,\n",
       "          11.68439831,   7.01063899],\n",
       "        [ 24.98319204,  25.96358117,  30.64686056,  42.45994591,\n",
       "          11.68168824,   7.00901294],\n",
       "        [  7.42352669,   7.71484034,   9.10643392,  12.61658404,\n",
       "           3.47110667,   2.082664  ],\n",
       "        [ 19.64914502,  20.42021575,  24.10358959,  33.39451714,\n",
       "           9.18758443,   5.51255066],\n",
       "        [ 19.1944605 ,  19.94768852,  23.54582847,  32.62176239,\n",
       "           8.97498218,   5.38498931]])"
      ]
     },
     "execution_count": 23,
     "metadata": {},
     "output_type": "execute_result"
    }
   ],
   "source": [
    "reconstruct(A, 1)"
   ]
  },
  {
   "cell_type": "code",
   "execution_count": 24,
   "metadata": {
    "collapsed": false,
    "deletable": true,
    "editable": true
   },
   "outputs": [
    {
     "data": {
      "text/plain": [
       "matrix([[ 22.45010659,  22.65481625,  -0.88700814,  69.20222934,\n",
       "          10.49270475,   6.29562285],\n",
       "        [ 22.44317119,  22.64730516,  -0.90827382,  69.20437661,\n",
       "          10.48945983,   6.2936759 ],\n",
       "        [  7.63386117,   7.98945509,  11.71945688,  10.40192665,\n",
       "           3.56983292,   2.14189975],\n",
       "        [ 22.88259678,  24.64184191,  64.27334036,  -0.65119796,\n",
       "          10.70529364,   6.42317618],\n",
       "        [ 22.41444781,  24.15173536,  63.54830798,  -1.28218261,\n",
       "          10.48637148,   6.29182289]])"
      ]
     },
     "execution_count": 24,
     "metadata": {},
     "output_type": "execute_result"
    }
   ],
   "source": [
    "reconstruct(A, 2)"
   ]
  },
  {
   "cell_type": "code",
   "execution_count": 25,
   "metadata": {
    "collapsed": false,
    "deletable": true,
    "editable": true
   },
   "outputs": [
    {
     "data": {
      "text/plain": [
       "matrix([[  2.15279357e+01,   2.15331217e+01,  -1.24088240e-02,\n",
       "           6.99784719e+01,   1.00142686e+01,   6.00856115e+00],\n",
       "        [  2.14724193e+01,   2.14665184e+01,   1.24004347e-02,\n",
       "           7.00215126e+01,   9.98581907e+00,   5.99149144e+00],\n",
       "        [  1.99905206e+01,   2.30196393e+01,   2.33961920e-04,\n",
       "           6.38133216e-04,   9.98065437e+00,   5.98839262e+00],\n",
       "        [  2.21195642e+01,   2.37137172e+01,   6.49970108e+01,\n",
       "          -8.91092457e-03,   1.03094208e+01,   6.18565248e+00],\n",
       "        [  2.08806483e+01,   2.22860783e+01,   6.50029842e+01,\n",
       "           8.90188988e-03,   9.69061313e+00,   5.81436788e+00]])"
      ]
     },
     "execution_count": 25,
     "metadata": {},
     "output_type": "execute_result"
    }
   ],
   "source": [
    "reconstruct(A, 3)"
   ]
  },
  {
   "cell_type": "markdown",
   "metadata": {
    "deletable": true,
    "editable": true
   },
   "source": [
    "### SINGULAR VALUE DECOMPOSITION"
   ]
  },
  {
   "cell_type": "code",
   "execution_count": 235,
   "metadata": {
    "collapsed": false,
    "deletable": true,
    "editable": true
   },
   "outputs": [
    {
     "name": "stdout",
     "output_type": "stream",
     "text": [
      "rows, cols:  (6, 11)\n"
     ]
    }
   ],
   "source": [
    "A = np.mat([\n",
    "    [5, 0, 5, 3, 0, 0, 1, 0, 0, 1, 0],\n",
    "    [4, 5, 0, 4, 3, 0, 2, 1, 0, 0, 2],\n",
    "    [5, 4, 4, 4, 0, 0, 1, 0, 1, 0, 1],\n",
    "    [0, 1, 0, 0, 0, 3, 0, 0, 0, 3, 0],\n",
    "    [1, 0, 0, 1, 1, 5, 4, 0, 3, 5, 0],\n",
    "    [0, 1, 1, 0, 1, 4, 5, 5, 4, 0, 4]\n",
    "])\n",
    "shape = A.shape\n",
    "print(\"rows, cols: \", shape)"
   ]
  },
  {
   "cell_type": "code",
   "execution_count": 27,
   "metadata": {
    "collapsed": false,
    "deletable": true,
    "editable": true
   },
   "outputs": [
    {
     "data": {
      "text/plain": [
       "(matrix([[-0.37770698,  0.3668459 ,  0.35582859,  0.54372574, -0.25276058,\n",
       "          -0.48643802],\n",
       "         [-0.47808234,  0.26586112, -0.34578263, -0.65784554, -0.26685458,\n",
       "          -0.27788018],\n",
       "         [-0.49655631,  0.43355096,  0.02103743,  0.091733  ,  0.44317579,\n",
       "           0.60016922],\n",
       "         [-0.12090558, -0.18971996,  0.35361987, -0.27074126,  0.727388  ,\n",
       "          -0.47111255],\n",
       "         [-0.38879129, -0.49257202,  0.58400825, -0.20947981, -0.35540889,\n",
       "           0.30814159],\n",
       "         [-0.46522008, -0.57284785, -0.53597124,  0.38210469,  0.11439913,\n",
       "          -0.09518034]]),\n",
       " array([ 14.5279703 ,  10.68614277,   6.87089724,   5.35101615,\n",
       "          2.43855306,   1.71909515]),\n",
       " matrix([[ -4.59282127e-01,  -3.41600546e-01,  -2.98732730e-01,\n",
       "           -3.73105583e-01,  -1.57507093e-01,  -2.86864125e-01,\n",
       "           -3.93151513e-01,  -1.93019580e-01,  -2.42553531e-01,\n",
       "           -1.84773241e-01,  -2.28084256e-01],\n",
       "         [  4.27923984e-01,   2.15320130e-01,   2.80324301e-01,\n",
       "            3.18694415e-01,  -2.50639080e-02,  -4.98160232e-01,\n",
       "           -3.27752330e-01,  -2.43153977e-01,  -3.12138491e-01,\n",
       "           -2.49404685e-01,  -1.24096993e-01],\n",
       "         [  1.57942671e-01,  -2.65920841e-01,   1.93180221e-01,\n",
       "            5.13052710e-02,  -1.43985689e-01,   2.67361867e-01,\n",
       "           -9.58422734e-02,  -4.40355707e-01,  -5.39700634e-02,\n",
       "            6.31173674e-01,  -4.09613573e-01],\n",
       "         [  6.28724975e-02,  -5.25308124e-01,   6.48038675e-01,\n",
       "           -1.57493963e-01,  -3.36555093e-01,  -6.18955419e-02,\n",
       "            7.33266137e-02,   2.34100944e-01,   1.85331594e-01,\n",
       "           -2.45915363e-01,   5.68977350e-02],\n",
       "         [ -1.93045285e-01,   5.24990580e-01,   2.55602143e-01,\n",
       "           -1.67478741e-01,  -4.27127676e-01,   3.53781963e-01,\n",
       "           -4.89197409e-01,   1.25132025e-01,  -6.78493895e-02,\n",
       "            6.24792526e-02,   1.50524984e-01],\n",
       "         [ -1.36538760e-01,   2.58847269e-01,  -7.36978111e-02,\n",
       "            8.02653042e-02,  -3.61049991e-01,  -1.47374665e-01,\n",
       "            1.83023905e-01,  -4.38475947e-01,   6.65392275e-01,\n",
       "           -2.08870192e-01,  -1.95633438e-01],\n",
       "         [ -3.89792049e-01,   3.07148703e-01,   4.86349420e-01,\n",
       "           -3.20549454e-01,   3.04787117e-01,  -1.67862457e-01,\n",
       "            4.13381949e-01,  -2.13775926e-01,  -2.45352969e-01,\n",
       "            6.54795560e-02,  -1.10863413e-01],\n",
       "         [  1.62651374e-01,   1.93882703e-01,  -1.01411404e-01,\n",
       "           -2.63279539e-01,  -1.81299739e-01,  -5.00251057e-01,\n",
       "            4.80152762e-02,   5.12382606e-01,   1.37668212e-01,\n",
       "            4.35623490e-01,  -3.15707398e-01],\n",
       "         [ -1.59317170e-02,  -2.57038701e-02,   1.95997059e-01,\n",
       "           -1.44610576e-01,   6.22480417e-01,  -4.51250690e-02,\n",
       "           -5.20188010e-01,   4.04309738e-05,   5.25324711e-01,\n",
       "            5.36930257e-02,  -2.82085697e-02],\n",
       "         [ -5.71133597e-01,  -1.03219167e-01,   1.29896404e-01,\n",
       "            6.65564933e-01,  -4.06604917e-02,  -2.57336895e-01,\n",
       "           -8.22521187e-02,   1.55757149e-01,   3.44018952e-02,\n",
       "            2.91743283e-01,   1.34549525e-01],\n",
       "         [  1.27640600e-01,  -6.64910420e-02,  -4.50837235e-02,\n",
       "           -2.47670950e-01,  -1.13432941e-01,  -3.17275097e-01,\n",
       "           -9.21030889e-03,  -3.38360210e-01,   5.31620413e-02,\n",
       "            3.39438778e-01,   7.54828132e-01]]))"
      ]
     },
     "execution_count": 27,
     "metadata": {},
     "output_type": "execute_result"
    }
   ],
   "source": [
    "U, S, V = np.linalg.svd(A)\n",
    "(U, S, V)"
   ]
  },
  {
   "cell_type": "code",
   "execution_count": 28,
   "metadata": {
    "collapsed": true,
    "deletable": true,
    "editable": true
   },
   "outputs": [],
   "source": [
    "def reconstruct(U, S, V, rank):\n",
    "    return U[:,:rank]  * np.diag(S[:rank]) * V[:rank]"
   ]
  },
  {
   "cell_type": "code",
   "execution_count": 29,
   "metadata": {
    "collapsed": false,
    "deletable": true,
    "editable": true
   },
   "outputs": [
    {
     "data": {
      "text/plain": [
       "matrix([[ 2.52022607,  1.87447007,  1.63924083,  2.04734815,  0.86429116,\n",
       "          1.57411404,  2.15734651,  1.05915939,  1.33096782,  1.01390912,\n",
       "          1.25157034],\n",
       "        [ 3.18997431,  2.37260913,  2.07486788,  2.59142944,  1.09397591,\n",
       "          1.9924337 ,  2.73065977,  1.34063023,  1.68467155,  1.28335473,\n",
       "          1.58417425],\n",
       "        [ 3.31324076,  2.46429109,  2.15504458,  2.69156702,  1.13624914,\n",
       "          2.06942499,  2.83617747,  1.39243464,  1.74977035,  1.33294591,\n",
       "          1.64538964],\n",
       "        [ 0.80673486,  0.60002568,  0.52472782,  0.65536467,  0.2766632 ,\n",
       "          0.50388046,  0.6905756 ,  0.33904133,  0.42604834,  0.32455653,\n",
       "          0.40063288],\n",
       "        [ 2.59418541,  1.92947886,  1.6873465 ,  2.10743027,  0.88965492,\n",
       "          1.62030849,  2.22065667,  1.09024181,  1.37002682,  1.04366361,\n",
       "          1.28829932],\n",
       "        [ 3.10415171,  2.3087768 ,  2.01904595,  2.52171   ,  1.06454374,\n",
       "          1.93882956,  2.6571945 ,  1.30456211,  1.63934739,  1.24882754,\n",
       "          1.54155386]])"
      ]
     },
     "execution_count": 29,
     "metadata": {},
     "output_type": "execute_result"
    }
   ],
   "source": [
    "reconstruct(U, S, V, 1)"
   ]
  },
  {
   "cell_type": "code",
   "execution_count": 30,
   "metadata": {
    "collapsed": false,
    "deletable": true,
    "editable": true
   },
   "outputs": [],
   "source": [
    "def calcError(A, rA):\n",
    "    return np.sum(np.power(A - rA, 2))"
   ]
  },
  {
   "cell_type": "code",
   "execution_count": 31,
   "metadata": {
    "collapsed": false,
    "deletable": true,
    "editable": true
   },
   "outputs": [
    {
     "name": "stdout",
     "output_type": "stream",
     "text": [
      "with rank 1, coverrage: 0.3493, error= 198.9381\n",
      "with rank 2, coverrage: 0.6062, error= 84.7444\n",
      "with rank 3, coverrage: 0.7714, error= 37.5352\n",
      "with rank 4, coverrage: 0.9000, error= 8.9018\n",
      "with rank 5, coverrage: 0.9587, error= 2.9553\n"
     ]
    }
   ],
   "source": [
    "S_sum = np\n",
    "for i in range(1, len(S)):\n",
    "    rA = reconstruct(U, S, V, i)\n",
    "    percentage = S[:i].sum() / S.sum()\n",
    "    error =  calcError(A, rA)\n",
    "    print(\"with rank {}, coverrage: {:0.4f}, error= {:0.4f}\".format(i, percentage, error))"
   ]
  },
  {
   "cell_type": "code",
   "execution_count": 32,
   "metadata": {
    "collapsed": false,
    "deletable": true,
    "editable": true
   },
   "outputs": [
    {
     "data": {
      "text/plain": [
       "matrix([[ 4.76683441,  0.54004518,  5.09591696,  2.96389163, -0.56519073,\n",
       "          0.09482103,  0.85152402, -0.28954052,  0.5146028 ,  0.86384615,\n",
       "         -0.07081608],\n",
       "        [ 3.80915299,  5.46528385,  0.13112467,  3.92935798,  2.54957687,\n",
       "          0.1598185 ,  1.76909111,  0.87196726,  0.27370728, -0.05912012,\n",
       "          2.00449791],\n",
       "        [ 5.34949911,  3.1655735 ,  3.79980637,  4.098182  ,  0.83411276,\n",
       "         -0.23028137,  1.33984485,  0.31716553,  0.38680822,  0.14797959,\n",
       "          1.0391709 ],\n",
       "        [ 0.23183774,  0.27842236, -0.51306741,  0.36207533,  0.46521826,\n",
       "          2.2531138 ,  1.01595449, -0.57707206,  0.65924225,  2.7200146 ,\n",
       "         -0.42543837],\n",
       "        [ 0.90501881,  0.31788284,  0.26056569,  0.81233044,  0.82107262,\n",
       "          5.38468497,  3.47906843,  0.3407214 ,  2.58872133,  5.16479343,\n",
       "          0.23408938],\n",
       "        [ 0.0315125 ,  0.89589788,  0.91663636,  0.0598546 ,  1.06007864,\n",
       "          3.87719199,  5.16641771,  4.89334691,  4.12780202, -0.05160592,\n",
       "          3.92599796]])"
      ]
     },
     "execution_count": 32,
     "metadata": {},
     "output_type": "execute_result"
    }
   ],
   "source": [
    "reconstruct(U, S, V, 4)"
   ]
  },
  {
   "cell_type": "code",
   "execution_count": 33,
   "metadata": {
    "collapsed": false,
    "deletable": true,
    "editable": true
   },
   "outputs": [
    {
     "data": {
      "text/plain": [
       "matrix([[5, 0, 5, 3, 0, 0, 1, 0, 0, 1, 0],\n",
       "        [4, 5, 0, 4, 3, 0, 2, 1, 0, 0, 2],\n",
       "        [5, 4, 4, 4, 0, 0, 1, 0, 1, 0, 1],\n",
       "        [0, 1, 0, 0, 0, 3, 0, 0, 0, 3, 0],\n",
       "        [1, 0, 0, 1, 1, 5, 4, 0, 3, 5, 0],\n",
       "        [0, 1, 1, 0, 1, 4, 5, 5, 4, 0, 4]])"
      ]
     },
     "execution_count": 33,
     "metadata": {},
     "output_type": "execute_result"
    }
   ],
   "source": [
    "A"
   ]
  },
  {
   "cell_type": "code",
   "execution_count": 34,
   "metadata": {
    "collapsed": false,
    "deletable": true,
    "editable": true
   },
   "outputs": [
    {
     "data": {
      "text/plain": [
       "(6, 11)"
      ]
     },
     "execution_count": 34,
     "metadata": {},
     "output_type": "execute_result"
    }
   ],
   "source": [
    "A.shape"
   ]
  },
  {
   "cell_type": "code",
   "execution_count": 35,
   "metadata": {
    "collapsed": false,
    "deletable": true,
    "editable": true
   },
   "outputs": [
    {
     "data": {
      "text/plain": [
       "array([[ 1.,  0.,  1.,  1.,  0.,  0.,  1.,  0.,  0.,  1.,  0.],\n",
       "       [ 1.,  1.,  0.,  1.,  1.,  0.,  1.,  1.,  0.,  0.,  1.],\n",
       "       [ 1.,  1.,  1.,  1.,  0.,  0.,  1.,  0.,  1.,  0.,  1.],\n",
       "       [ 0.,  1.,  0.,  0.,  0.,  1.,  0.,  0.,  0.,  1.,  0.],\n",
       "       [ 1.,  0.,  0.,  1.,  1.,  1.,  1.,  0.,  1.,  1.,  0.],\n",
       "       [ 0.,  1.,  1.,  0.,  1.,  1.,  1.,  1.,  1.,  0.,  1.]])"
      ]
     },
     "execution_count": 35,
     "metadata": {},
     "output_type": "execute_result"
    }
   ],
   "source": [
    "mask = np.ones(A.shape)\n",
    "mask[A==0] = 0\n",
    "mask"
   ]
  },
  {
   "cell_type": "code",
   "execution_count": 36,
   "metadata": {
    "collapsed": true,
    "deletable": true,
    "editable": true
   },
   "outputs": [],
   "source": [
    "A_true = np.mat(np.random.randn(6, 5))\n",
    "B_true = np.mat(np.random.randn(5, 11))"
   ]
  },
  {
   "cell_type": "code",
   "execution_count": 37,
   "metadata": {
    "collapsed": false,
    "deletable": true,
    "editable": true
   },
   "outputs": [
    {
     "data": {
      "text/plain": [
       "9952.3552777548921"
      ]
     },
     "execution_count": 37,
     "metadata": {},
     "output_type": "execute_result"
    }
   ],
   "source": [
    "B_true = A.I * A\n",
    "A_true = A * B_true.I\n",
    "calcError(A, A_true * B_true)"
   ]
  },
  {
   "cell_type": "code",
   "execution_count": 38,
   "metadata": {
    "collapsed": false,
    "deletable": true,
    "editable": true
   },
   "outputs": [
    {
     "data": {
      "text/plain": [
       "9952.3552777548921"
      ]
     },
     "execution_count": 38,
     "metadata": {},
     "output_type": "execute_result"
    }
   ],
   "source": [
    "B_true = A.I * A\n",
    "A_true = A * B_true.I\n",
    "calcError(A, A_true * B_true)"
   ]
  },
  {
   "cell_type": "code",
   "execution_count": 39,
   "metadata": {
    "collapsed": false,
    "deletable": true,
    "editable": true
   },
   "outputs": [
    {
     "data": {
      "text/plain": [
       "matrix([[5, 0, 5, 3, 0, 0, 1, 0, 0, 1, 0],\n",
       "        [4, 5, 0, 4, 3, 0, 2, 1, 0, 0, 2],\n",
       "        [5, 4, 4, 4, 0, 0, 1, 0, 1, 0, 1],\n",
       "        [0, 1, 0, 0, 0, 3, 0, 0, 0, 3, 0],\n",
       "        [1, 0, 0, 1, 1, 5, 4, 0, 3, 5, 0],\n",
       "        [0, 1, 1, 0, 1, 4, 5, 5, 4, 0, 4]])"
      ]
     },
     "execution_count": 39,
     "metadata": {},
     "output_type": "execute_result"
    }
   ],
   "source": [
    "A"
   ]
  },
  {
   "cell_type": "code",
   "execution_count": 224,
   "metadata": {
    "collapsed": false,
    "deletable": true,
    "editable": true
   },
   "outputs": [],
   "source": []
  },
  {
   "cell_type": "code",
   "execution_count": 269,
   "metadata": {
    "collapsed": false,
    "deletable": true,
    "editable": true
   },
   "outputs": [],
   "source": [
    "\n",
    "A = np.random.random((10, 20))"
   ]
  },
  {
   "cell_type": "code",
   "execution_count": 270,
   "metadata": {
    "collapsed": false,
    "deletable": true,
    "editable": true
   },
   "outputs": [
    {
     "data": {
      "text/plain": [
       "((10, 4), (4, 20))"
      ]
     },
     "execution_count": 270,
     "metadata": {},
     "output_type": "execute_result"
    }
   ],
   "source": [
    "rank = 4\n",
    "U1 = np.mat(np.random.randn(A.shape[0], rank))\n",
    "M1 = np.mat(np.random.randn(rank, A.shape[1]))\n",
    "U1.shape, M1.shape"
   ]
  },
  {
   "cell_type": "code",
   "execution_count": 424,
   "metadata": {
    "collapsed": false,
    "deletable": true,
    "editable": true
   },
   "outputs": [
    {
     "name": "stdout",
     "output_type": "stream",
     "text": [
      "0.014291763305664062 0.0787419623936\n"
     ]
    },
    {
     "data": {
      "image/png": "[encoded data removed]",
      "text/plain": [
       "<matplotlib.figure.Figure at 0x107db2470>"
      ]
     },
     "metadata": {},
     "output_type": "display_data"
    }
   ],
   "source": [
    "U = np.copy(U1)\n",
    "M = np.copy(M1)\n",
    "errors = []\n",
    "start = time.time()\n",
    "for i in range(200):\n",
    "    U = np.linalg.solve(M.dot(M.T), M.dot(A.T)).T\n",
    "    M = np.linalg.solve(U.T.dot(U), U.T.dot(A))\n",
    "    if i % 50 == 0:\n",
    "        e = np.sqrt(np.power(A - U.dot(M), 2).sum()) / (A.shape[0] + A.shape[1])\n",
    "        errors.append(e)\n",
    "elapsed = time.time() - start\n",
    "e = np.sqrt(np.power(A - U.dot(M), 2).sum()) / (A.shape[0] + A.shape[1])\n",
    "errors.append(e)\n",
    "print(elapsed, errors[-1])\n",
    "plt.plot(errors)\n",
    "plt.show()"
   ]
  },
  {
   "cell_type": "markdown",
   "metadata": {
    "deletable": true,
    "editable": true
   },
   "source": [
    "### Stochastic Gradient Descent"
   ]
  },
  {
   "cell_type": "code",
   "execution_count": 451,
   "metadata": {
    "collapsed": false,
    "deletable": true,
    "editable": true
   },
   "outputs": [
    {
     "name": "stdout",
     "output_type": "stream",
     "text": [
      "4.065443992614746 0.0793941976917\n"
     ]
    },
    {
     "data": {
      "image/png": "[encoded data removed]",
      "text/plain": [
       "<matplotlib.figure.Figure at 0x107dc9898>"
      ]
     },
     "metadata": {},
     "output_type": "display_data"
    }
   ],
   "source": [
    "U = np.copy(U1)\n",
    "M = np.copy(M1)\n",
    "eta = 0.2\n",
    "MAX_ITERATION = 20000\n",
    "errors = []\n",
    "start = time.time()\n",
    "for i in range(MAX_ITERATION):\n",
    "    if i % 200 == 0:\n",
    "        eta = eta * 0.9\n",
    "    for j in range(A.shape[0]):\n",
    "#         u_ind = np.random.randint(0, A.shape[0])\n",
    "        u_ind = j\n",
    "        m_ind = np.random.randint(0, A.shape[1])\n",
    "        a_i = A[u_ind, m_ind]\n",
    "        u_i = U[u_ind,:]\n",
    "        m_i = M[:,m_ind]\n",
    "\n",
    "        err = a_i - u_i.dot(m_i)    \n",
    "        dU = - err * m_i.T\n",
    "        dM = - u_i.T.dot(err)\n",
    "\n",
    "        U[u_ind,:] = U[u_ind,:] - eta * dU\n",
    "        M[:,m_ind] = M[:,m_ind] - eta * dM\n",
    "    if i % 400 == 0:\n",
    "        e = np.sqrt(np.power(A - U.dot(M), 2).sum()) / (A.shape[0] + A.shape[1])\n",
    "        errors.append(e)\n",
    "elapsed = time.time() - start\n",
    "e = np.sqrt(np.power(A - U.dot(M), 2).sum()) / (A.shape[0] + A.shape[1])\n",
    "errors.append(e)\n",
    "print(elapsed, errors[-1])\n",
    "plt.plot(errors)\n",
    "plt.show()"
   ]
  },
  {
   "cell_type": "code",
   "execution_count": 452,
   "metadata": {
    "collapsed": false,
    "deletable": true,
    "editable": true
   },
   "outputs": [
    {
     "name": "stdout",
     "output_type": "stream",
     "text": [
      "k\n",
      "1.0532281398773193 0.131717052629\n"
     ]
    },
    {
     "data": {
      "image/png": "[encoded data removed]",
      "text/plain": [
       "<matplotlib.figure.Figure at 0x1179fa0b8>"
      ]
     },
     "metadata": {},
     "output_type": "display_data"
    }
   ],
   "source": [
    "U = np.copy(U1)\n",
    "M = np.copy(M1)\n",
    "eta = 0.14\n",
    "MAX_ITERATION = 40000\n",
    "block_size = 4\n",
    "errors = []\n",
    "start = time.time()\n",
    "for i in range(MAX_ITERATION):\n",
    "#     for j in range(0, A.shape[0] - block_size):\n",
    "#         u_ind = j\n",
    "    u_ind = np.random.randint(0, A.shape[0]-block_size)\n",
    "    m_ind = np.random.randint(0, A.shape[1]-block_size)\n",
    "    a_i = A[u_ind:u_ind+block_size, m_ind:m_ind+block_size]\n",
    "    u_i = U[u_ind:u_ind+block_size,:]\n",
    "    m_i = M[:,m_ind:m_ind+block_size]\n",
    "\n",
    "    err = a_i - u_i.dot(m_i)\n",
    "    dU = - err.dot(m_i.T)\n",
    "    dM = - u_i.T.dot(err)\n",
    "\n",
    "    U[u_ind:u_ind+block_size,:] = U[u_ind:u_ind+block_size,:] - eta * dU\n",
    "    M[:,m_ind:m_ind+block_size] = M[:,m_ind:m_ind+block_size] - eta * dM\n",
    "    if i % 100 == 0:\n",
    "        e = np.sqrt(np.power(A - U.dot(M), 2).sum()) / (A.shape[0] + A.shape[1])\n",
    "        errors.append(e)\n",
    "elapsed = time.time() - start\n",
    "print('k')\n",
    "e = np.sqrt(np.power(A - U.dot(M), 2).sum()) / (A.shape[0] + A.shape[1])\n",
    "errors.append(e)\n",
    "print(elapsed, errors[-1])\n",
    "plt.plot(errors)\n",
    "plt.show()"
   ]
  },
  {
   "cell_type": "code",
   "execution_count": 458,
   "metadata": {
    "collapsed": false,
    "deletable": true,
    "editable": true,
    "scrolled": false
   },
   "outputs": [
    {
     "name": "stdout",
     "output_type": "stream",
     "text": [
      "k\n",
      "4.646364212036133 0.379032177699\n"
     ]
    },
    {
     "data": {
      "image/png": "[encoded data removed]",
      "text/plain": [
       "<matplotlib.figure.Figure at 0x117881cf8>"
      ]
     },
     "metadata": {},
     "output_type": "display_data"
    }
   ],
   "source": [
    "U = np.copy(U1)\n",
    "M = np.copy(M1)\n",
    "eta = 0.01\n",
    "MAX_ITERATION = 12000\n",
    "block_size = 1\n",
    "errors = []\n",
    "start = time.time()\n",
    "for i in range(MAX_ITERATION):\n",
    "    for j in range(0, A.shape[0] - block_size):\n",
    "        u_ind = j\n",
    "        m_ind = np.random.randint(0, A.shape[1]-block_size)\n",
    "        a_i = A[u_ind:u_ind+block_size, m_ind:m_ind+block_size]\n",
    "        u_i = U[u_ind:u_ind+block_size,:]\n",
    "        m_i = M[:,m_ind:m_ind+block_size]\n",
    "        \n",
    "#         u_i = np.linalg.solve(m_i.dot(m_i.T), m_i.dot(a_i.T)).T\n",
    "        err = a_i - u_i.dot(m_i)\n",
    "        dU = - err.dot(m_i.T)\n",
    "        U[u_ind:u_ind+block_size,:] = U[u_ind:u_ind+block_size,:] - eta * dU\n",
    "#         U[u_ind:u_ind+block_size,:] = u_i\n",
    "        \n",
    "    for j in range(0, A.shape[1] - block_size):\n",
    "        u_ind = np.random.randint(0, A.shape[0]-block_size)\n",
    "        m_ind = j\n",
    "        a_i = A[u_ind:u_ind+block_size, m_ind:m_ind+block_size]\n",
    "        u_i = U[u_ind:u_ind+block_size,:]\n",
    "        m_i = M[:,m_ind:m_ind+block_size]\n",
    "#         m_i = np.linalg.solve(u_i.T.dot(u_i), u_i.T.dot(a_i))\n",
    "        err = a_i - u_i.dot(m_i)\n",
    "        dM = - u_i.T.dot(err)\n",
    "        M[:,m_ind:m_ind+block_size] = M[:,m_ind:m_ind+block_size] - eta * dM\n",
    "        \n",
    "        \n",
    "    if i % 2400 == 0:\n",
    "        e = np.sqrt(np.power(A - U.dot(M), 2).sum()) / (A.shape[0] + A.shape[1])\n",
    "        errors.append(e)\n",
    "elapsed = time.time() - start\n",
    "print('k')\n",
    "e = np.sqrt(np.power(A - U.dot(M), 2).sum()) / (A.shape[0] + A.shape[1])\n",
    "errors.append(e)\n",
    "print(elapsed, errors[-1])\n",
    "plt.plot(errors)\n",
    "plt.show()"
   ]
  },
  {
   "cell_type": "code",
   "execution_count": 462,
   "metadata": {
    "collapsed": false
   },
   "outputs": [
    {
     "ename": "ValueError",
     "evalue": "could not broadcast input array from shape (4,10) into shape (4,1)",
     "output_type": "error",
     "traceback": [
      "\u001b[0;31m---------------------------------------------------------------------------\u001b[0m",
      "\u001b[0;31mValueError\u001b[0m                                Traceback (most recent call last)",
      "\u001b[0;32m<ipython-input-462-0ce60c95dca0>\u001b[0m in \u001b[0;36m<module>\u001b[0;34m()\u001b[0m\n\u001b[1;32m     26\u001b[0m         \u001b[0merr\u001b[0m \u001b[0;34m=\u001b[0m \u001b[0ma_i\u001b[0m \u001b[0;34m-\u001b[0m \u001b[0mU\u001b[0m\u001b[0;34m.\u001b[0m\u001b[0mdot\u001b[0m\u001b[0;34m(\u001b[0m\u001b[0mU\u001b[0m\u001b[0;34m.\u001b[0m\u001b[0mT\u001b[0m\u001b[0;34m)\u001b[0m\u001b[0;34m\u001b[0m\u001b[0m\n\u001b[1;32m     27\u001b[0m         \u001b[0mdM\u001b[0m \u001b[0;34m=\u001b[0m \u001b[0;34m-\u001b[0m \u001b[0mU\u001b[0m\u001b[0;34m.\u001b[0m\u001b[0mT\u001b[0m\u001b[0;34m.\u001b[0m\u001b[0mdot\u001b[0m\u001b[0;34m(\u001b[0m\u001b[0merr\u001b[0m\u001b[0;34m)\u001b[0m\u001b[0;34m\u001b[0m\u001b[0m\n\u001b[0;32m---> 28\u001b[0;31m         \u001b[0mM\u001b[0m\u001b[0;34m[\u001b[0m\u001b[0;34m:\u001b[0m\u001b[0;34m,\u001b[0m\u001b[0mm_ind\u001b[0m\u001b[0;34m:\u001b[0m\u001b[0mm_ind\u001b[0m\u001b[0;34m+\u001b[0m\u001b[0mblock_size\u001b[0m\u001b[0;34m]\u001b[0m \u001b[0;34m=\u001b[0m \u001b[0mM\u001b[0m\u001b[0;34m[\u001b[0m\u001b[0;34m:\u001b[0m\u001b[0;34m,\u001b[0m\u001b[0mm_ind\u001b[0m\u001b[0;34m:\u001b[0m\u001b[0mm_ind\u001b[0m\u001b[0;34m+\u001b[0m\u001b[0mblock_size\u001b[0m\u001b[0;34m]\u001b[0m \u001b[0;34m-\u001b[0m \u001b[0meta\u001b[0m \u001b[0;34m*\u001b[0m \u001b[0mdM\u001b[0m\u001b[0;34m\u001b[0m\u001b[0m\n\u001b[0m\u001b[1;32m     29\u001b[0m \u001b[0;34m\u001b[0m\u001b[0m\n\u001b[1;32m     30\u001b[0m \u001b[0;34m\u001b[0m\u001b[0m\n",
      "\u001b[0;31mValueError\u001b[0m: could not broadcast input array from shape (4,10) into shape (4,1)"
     ]
    }
   ],
   "source": [
    "U = np.copy(U1)\n",
    "M = np.copy(M1)\n",
    "eta = 0.01\n",
    "MAX_ITERATION = 12000\n",
    "block_size = 1\n",
    "errors = []\n",
    "start = time.time()\n",
    "for i in range(MAX_ITERATION):\n",
    "    for j in range(0, A.shape[0] - block_size):\n",
    "        u_ind = j\n",
    "        m_ind = np.random.randint(0, A.shape[1]-block_size)\n",
    "        a_i = A[u_ind:u_ind+block_size, :]\n",
    "        u_i = U[u_ind:u_ind+block_size,:]\n",
    "        \n",
    "        err = a_i - u_i.dot(M)\n",
    "        dU = - err.dot(M.T)\n",
    "        U[u_ind:u_ind+block_size,:] = U[u_ind:u_ind+block_size,:] - eta * dU\n",
    "#         U[u_ind:u_ind+block_size,:] = u_i\n",
    "        \n",
    "    for j in range(0, A.shape[1] - block_size):\n",
    "        u_ind = np.random.randint(0, A.shape[0]-block_size)\n",
    "        m_ind = j\n",
    "        a_i = A[:, m_ind:m_ind+block_size]\n",
    "        m_i = M[:,m_ind:m_ind+block_size]\n",
    "\n",
    "        err = a_i - U.dot(U)\n",
    "        dM = - U.T.dot(err)\n",
    "        M[:,m_ind:m_ind+block_size] = M[:,m_ind:m_ind+block_size] - eta * dM\n",
    "        \n",
    "        \n",
    "    if i % 2400 == 0:\n",
    "        e = np.sqrt(np.power(A - U.dot(M), 2).sum()) / (A.shape[0] + A.shape[1])\n",
    "        errors.append(e)\n",
    "elapsed = time.time() - start\n",
    "print('k')\n",
    "e = np.sqrt(np.power(A - U.dot(M), 2).sum()) / (A.shape[0] + A.shape[1])\n",
    "errors.append(e)\n",
    "print(elapsed, errors[-1])\n",
    "plt.plot(errors)\n",
    "plt.show()"
   ]
  },
  {
   "cell_type": "code",
   "execution_count": null,
   "metadata": {
    "collapsed": true
   },
   "outputs": [],
   "source": []
  },
  {
   "cell_type": "code",
   "execution_count": null,
   "metadata": {
    "collapsed": true
   },
   "outputs": [],
   "source": []
  },
  {
   "cell_type": "code",
   "execution_count": null,
   "metadata": {
    "collapsed": true
   },
   "outputs": [],
   "source": []
  },
  {
   "cell_type": "code",
   "execution_count": null,
   "metadata": {
    "collapsed": true
   },
   "outputs": [],
   "source": []
  },
  {
   "cell_type": "code",
   "execution_count": 431,
   "metadata": {
    "collapsed": false
   },
   "outputs": [
    {
     "data": {
      "text/plain": [
       "array([ 6.93616054, -3.70703094, -0.34937645, -0.53202702,  0.6691046 ])"
      ]
     },
     "execution_count": 431,
     "metadata": {},
     "output_type": "execute_result"
    }
   ],
   "source": [
    "U.dot(M)[3,:5]"
   ]
  },
  {
   "cell_type": "code",
   "execution_count": 457,
   "metadata": {
    "collapsed": false
   },
   "outputs": [
    {
     "data": {
      "text/plain": [
       "array([[ 0.00443189]])"
      ]
     },
     "execution_count": 457,
     "metadata": {},
     "output_type": "execute_result"
    }
   ],
   "source": [
    "a_i"
   ]
  },
  {
   "cell_type": "code",
   "execution_count": null,
   "metadata": {
    "collapsed": true
   },
   "outputs": [],
   "source": []
  },
  {
   "cell_type": "code",
   "execution_count": 408,
   "metadata": {
    "collapsed": false
   },
   "outputs": [
    {
     "data": {
      "text/plain": [
       "array([ 0.15421251,  0.50652959,  0.25934971,  0.8203848 ,  0.6798117 ])"
      ]
     },
     "execution_count": 408,
     "metadata": {},
     "output_type": "execute_result"
    }
   ],
   "source": [
    "U.dot(M)[3,:5]"
   ]
  },
  {
   "cell_type": "code",
   "execution_count": 441,
   "metadata": {
    "collapsed": false
   },
   "outputs": [
    {
     "data": {
      "text/plain": [
       "array([[ 0.88991031, -1.11520329,  0.75238804,  2.13531994,  0.33131531,\n",
       "         0.40815122,  0.08004733,  1.55620641,  0.0437635 ,  0.64632387,\n",
       "         0.76435717, -2.19905092, -0.7758741 ,  1.16759714, -1.44449923,\n",
       "         0.00943331,  1.15211436, -0.1773714 ,  0.48856296, -0.06216587],\n",
       "       [ 0.0279215 ,  1.8936256 ,  0.17278202, -2.03120041, -0.83029699,\n",
       "         0.24711855, -0.77822443, -0.0130944 , -0.80994036,  0.37938036,\n",
       "        -1.02142506,  1.35912663, -1.00546452, -0.1222818 , -0.61429996,\n",
       "         2.02352052, -2.32272918, -1.40966399,  0.6990727 , -0.24108175],\n",
       "       [ 1.65758934, -1.5679221 ,  0.83967987, -0.38427077,  0.84137448,\n",
       "         2.04544519,  0.02173059, -0.05216779, -0.25287257,  0.98262751,\n",
       "         0.41550207, -0.17672982,  1.24510027,  0.66171195, -0.81434485,\n",
       "        -0.88225348,  1.71814951, -0.37139128,  0.86622349, -0.54101977],\n",
       "       [-1.92895956,  0.20296416,  0.62142512,  0.23157709,  0.43959861,\n",
       "        -2.47030314,  1.03303486,  0.23278662, -0.88808655,  0.52651831,\n",
       "         1.92479865, -0.64757968, -0.35915632, -0.98211636,  0.54844687,\n",
       "         0.91761771,  0.58950098, -2.35283403,  0.17727504, -1.15965419]])"
      ]
     },
     "execution_count": 441,
     "metadata": {},
     "output_type": "execute_result"
    }
   ],
   "source": [
    "M"
   ]
  },
  {
   "cell_type": "code",
   "execution_count": null,
   "metadata": {
    "collapsed": true
   },
   "outputs": [],
   "source": []
  }
 ],
 "metadata": {
  "kernelspec": {
   "display_name": "Python 3",
   "language": "python",
   "name": "python3"
  },
  "language_info": {
   "codemirror_mode": {
    "name": "ipython",
    "version": 3
   },
   "file_extension": ".py",
   "mimetype": "text/x-python",
   "name": "python",
   "nbconvert_exporter": "python",
   "pygments_lexer": "ipython3",
   "version": "3.6.0"
  }
 },
 "nbformat": 4,
 "nbformat_minor": 2
}
