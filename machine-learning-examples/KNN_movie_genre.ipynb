{
 "cells": [
  {
   "cell_type": "code",
   "execution_count": 357,
   "metadata": {
    "collapsed": false
   },
   "outputs": [],
   "source": [
    "import numpy as np\n",
    "from matplotlib import pylab as plt\n",
    "import operator\n",
    "import pandas as pd\n",
    "%matplotlib inline"
   ]
  },
  {
   "cell_type": "code",
   "execution_count": 572,
   "metadata": {
    "collapsed": false
   },
   "outputs": [],
   "source": [
    "df = pd.read_csv(\"data/datingTestSet.txt\", delimiter=\"\\t\", header=None)\n",
    "X = np.array(df.iloc[:, :3])\n",
    "Y = np.array(df.iloc[:, 3:])"
   ]
  },
  {
   "cell_type": "code",
   "execution_count": 573,
   "metadata": {
    "collapsed": false,
    "scrolled": true
   },
   "outputs": [],
   "source": [
    "class KNN(object):\n",
    "    def __init__(self):\n",
    "        super(KNN, self).__init()\n",
    "\n",
    "    @classmethod\n",
    "    def normalize(cls, features):\n",
    "        fmax = features.max(axis=0)\n",
    "        fmin = features.min(axis=0)\n",
    "        features = (features - fmin) / (fmax - fmin)\n",
    "        return features, fmin, fmax\n",
    "    \n",
    "    @classmethod\n",
    "    def classify(cls, features, labels, x, k=5):\n",
    "        datesize = features.shape\n",
    "        distances = np.tile(x, (datesize[0], 1)) - features\n",
    "        distances = np.power(distances, 2)\n",
    "\n",
    "        minDistanceIDs = distances.sum(axis=1).argsort()[:k]\n",
    "        neighbors = {}\n",
    "\n",
    "        for i in minDistanceIDs:\n",
    "            label = np.asscalar(labels[i])\n",
    "            neighbors[label] = neighbors.get(label, 0) + 1\n",
    "        #print neighbors\n",
    "        sortedClassCount = sorted(\n",
    "            neighbors.iteritems(), key=operator.itemgetter(1), reverse=True)\n",
    "        return sortedClassCount[0][0]"
   ]
  },
  {
   "cell_type": "code",
   "execution_count": 564,
   "metadata": {
    "collapsed": false,
    "scrolled": true
   },
   "outputs": [
    {
     "data": {
      "text/plain": [
       "'didntLike'"
      ]
     },
     "execution_count": 564,
     "metadata": {},
     "output_type": "execute_result"
    }
   ],
   "source": [
    "q = np.array([7.00960000e+04,1.09659260e+01, 1.21232800e+00])\n",
    "KNN.classify(X, Y, q, k=6)"
   ]
  },
  {
   "cell_type": "code",
   "execution_count": 620,
   "metadata": {
    "collapsed": false
   },
   "outputs": [
    {
     "name": "stdout",
     "output_type": "stream",
     "text": [
      "error rate:  0.115\n"
     ]
    }
   ],
   "source": [
    "def test(features, labels):\n",
    "    tp = 0\n",
    "    tp2 = 0\n",
    "    datasize = features.shape\n",
    "    features, fmin, fmax = KNN.normalize(features)\n",
    "    testNumber = 200\n",
    "    \n",
    "    for i in range(testNumber):\n",
    "        predicted = KNN.classify(\n",
    "            training_x[:-testNumber], \n",
    "            training_y[:-testNumber], \n",
    "            training_x[testNumber+i], \n",
    "            k=3)\n",
    "        \n",
    "        y = training_y[testNumber+i]\n",
    "        \n",
    "        if predicted != y:\n",
    "            tp += 1        \n",
    "\n",
    "    return float(tp) / testNumber\n",
    "\n",
    "print \"error rate: \", test(X, Y)"
   ]
  },
  {
   "cell_type": "code",
   "execution_count": 623,
   "metadata": {
    "collapsed": false,
    "scrolled": true
   },
   "outputs": [],
   "source": [
    "def readDigits(path, sampleSize=10):\n",
    "    # (number of digit * sample size, feature size=width*height)\n",
    "    X = np.ndarray((10 * sampleSize, 32 * 32)) \n",
    "    Y = np.ndarray((10 * sampleSize, 1))\n",
    "    for i in range(10):\n",
    "        for s in range(sampleSize):\n",
    "            with open(\"{}{}_{}.txt\".format(path, i, s)) as f:\n",
    "                for c, line in enumerate(f):\n",
    "                    colPos = c * 32\n",
    "                    X[i+s, colPos:colPos + 32] = list(line.strip())\n",
    "        Y[i*sampleSize: (i+1) * sampleSize] = i\n",
    "\n",
    "    return X, Y\n",
    "\n",
    "X, Y = readDigits(\"data/trainingDigits/\", 2)"
   ]
  },
  {
   "cell_type": "code",
   "execution_count": 675,
   "metadata": {
    "collapsed": false,
    "scrolled": true
   },
   "outputs": [
    {
     "name": "stdout",
     "output_type": "stream",
     "text": [
      "error rate:  0.8\n"
     ]
    }
   ],
   "source": [
    "def testDigits():\n",
    "    X, Y = readDigits(\"data/trainingDigits/\", 150)\n",
    "    test_X, test_Y = readDigits(\"data/testDigits/\", 3)\n",
    "    tp = 0\n",
    "    datasize = X.shape\n",
    "    \n",
    "    for test_x, test_y in zip(test_X, test_Y):\n",
    "        predicted = KNN.classify(X, Y, test_x, k=5)\n",
    "        #print test_y[0], predicted\n",
    "        if predicted != test_y:\n",
    "            tp += 1\n",
    "\n",
    "    return float(tp) / len(test_X)\n",
    "\n",
    "print \"error rate: \", testDigits()"
   ]
  },
  {
   "cell_type": "code",
   "execution_count": 686,
   "metadata": {
    "collapsed": false
   },
   "outputs": [
    {
     "name": "stdout",
     "output_type": "stream",
     "text": [
      "error rate:  [[ 0.]\n",
      " [ 0.]\n",
      " [ 1.]\n",
      " [ 1.]\n",
      " [ 2.]\n",
      " [ 2.]\n",
      " [ 3.]\n",
      " [ 3.]\n",
      " [ 4.]\n",
      " [ 4.]\n",
      " [ 5.]\n",
      " [ 5.]\n",
      " [ 6.]\n",
      " [ 6.]\n",
      " [ 7.]\n",
      " [ 7.]\n",
      " [ 8.]\n",
      " [ 8.]\n",
      " [ 9.]\n",
      " [ 9.]]\n",
      "(array([[ 12.40967365,  12.52996409],\n",
      "       [ 14.10673598,  14.28285686],\n",
      "       [ 14.10673598,  14.56021978],\n",
      "       [ 12.08304597,  12.16552506],\n",
      "       [ 10.77032961,  10.90871211],\n",
      "       [ 11.83215957,  12.68857754],\n",
      "       [ 13.49073756,  14.86606875],\n",
      "       [ 13.03840481,  13.15294644],\n",
      "       [ 11.61895004,  12.64911064],\n",
      "       [  9.64365076,  10.04987562],\n",
      "       [ 11.04536102,  11.18033989],\n",
      "       [  9.89949494,  11.18033989],\n",
      "       [  0.        ,   0.        ],\n",
      "       [  0.        ,   0.        ],\n",
      "       [  0.        ,   0.        ],\n",
      "       [  0.        ,   0.        ],\n",
      "       [  0.        ,   0.        ],\n",
      "       [  0.        ,   0.        ],\n",
      "       [  0.        ,   0.        ],\n",
      "       [  0.        ,   0.        ]]), array([[  0,   6],\n",
      "       [  1,  45],\n",
      "       [  2,  43],\n",
      "       [ 27,   3],\n",
      "       [ 31,  11],\n",
      "       [  5,  28],\n",
      "       [  6,   8],\n",
      "       [ 22,  21],\n",
      "       [  8,   6],\n",
      "       [ 13,  15],\n",
      "       [ 16,  11],\n",
      "       [ 16,  34],\n",
      "       [198,  97],\n",
      "       [198,  97],\n",
      "       [198,  97],\n",
      "       [198,  97],\n",
      "       [198,  97],\n",
      "       [198,  97],\n",
      "       [198,  97],\n",
      "       [198,  97]]))\n",
      "None\n"
     ]
    }
   ],
   "source": [
    "def testDigits():\n",
    "    X, Y = readDigits(\"data/trainingDigits/\", 40)\n",
    "    test_X, test_Y = readDigits(\"data/testDigits/\", 2)\n",
    "    from sklearn.neighbors import NearestNeighbors\n",
    "    nbrs = NearestNeighbors(n_neighbors=2, algorithm='ball_tree').fit(X, Y)\n",
    "    print test_Y\n",
    "    print nbrs.kneighbors(test_X)\n",
    "print \"error rate: \", testDigits()"
   ]
  },
  {
   "cell_type": "code",
   "execution_count": 704,
   "metadata": {
    "collapsed": false
   },
   "outputs": [
    {
     "name": "stdout",
     "output_type": "stream",
     "text": [
      "[[-0.99308301  0.11026755 -0.03899004 -0.01034343]\n",
      " [-0.05833671 -0.74906615 -0.52732983 -0.39676186]\n",
      " [-0.08961563 -0.52119915  0.84024944 -0.11958829]\n",
      " [-0.04849752 -0.39381773 -0.1199329   0.91003939]]\n",
      "[ 53.32030733  22.47097741]\n",
      "[[-0.99784741 -0.06557862]\n",
      " [ 0.06557862 -0.99784741]]\n"
     ]
    }
   ],
   "source": [
    "a = np.array([\n",
    "        [53, 1],\n",
    "        [2, 17],\n",
    "        [4, 12],\n",
    "        [2, 9]\n",
    "    ])\n",
    "\n",
    "U, S, VT = np.linalg.svd(a,full_matrices=True)\n",
    "print U\n",
    "print S\n",
    "print VT"
   ]
  },
  {
   "cell_type": "code",
   "execution_count": 733,
   "metadata": {
    "collapsed": false
   },
   "outputs": [
    {
     "name": "stdout",
     "output_type": "stream",
     "text": [
      "[[-0.48552086  0.30425039 -0.7530737  -0.32339017]\n",
      " [-0.75301257  0.32710408  0.49684413  0.28128438]\n",
      " [-0.37295365 -0.68251946  0.21788421 -0.58957547]\n",
      " [-0.2411372  -0.57844775 -0.37222626  0.68461571]]\n",
      "[ 34.2353521    6.84438172   4.66426921   0.58283658]\n",
      "[[-0.60176255 -0.73821769 -0.13428175 -0.27365103]\n",
      " [ 0.77798126 -0.61137578  0.09583771 -0.10853543]\n",
      " [-0.09936173 -0.28428032  0.07008324  0.95099963]\n",
      " [-0.15084505 -0.02095235  0.9838048  -0.09452452]]\n"
     ]
    }
   ],
   "source": [
    "a = np.array([\n",
    "        [12, 12, 2, 1],\n",
    "        [17, 17, 4, 9],\n",
    "        [4, 12, 1, 5],\n",
    "        [2, 9, 1, 1]\n",
    "    ])\n",
    "\n",
    "U, S, VT = np.linalg.svd(a,full_matrices=True)\n",
    "print U\n",
    "print S\n",
    "print VT"
   ]
  },
  {
   "cell_type": "code",
   "execution_count": 737,
   "metadata": {
    "collapsed": false
   },
   "outputs": [
    {
     "data": {
      "text/plain": [
       "matrix([[ 12.,  12.,   2.,   1.],\n",
       "        [ 17.,  17.,   4.,   9.],\n",
       "        [  4.,  12.,   1.,   5.],\n",
       "        [  2.,   9.,   1.,   1.]])"
      ]
     },
     "execution_count": 737,
     "metadata": {},
     "output_type": "execute_result"
    }
   ],
   "source": [
    "k = 4\n",
    "U[:,:k] * np.mat(np.diag(S)[:k, :k]) * VT[:k,:]"
   ]
  },
  {
   "cell_type": "code",
   "execution_count": 738,
   "metadata": {
    "collapsed": false
   },
   "outputs": [
    {
     "data": {
      "text/plain": [
       "array([[-0.48552086,  0.30425039, -0.7530737 , -0.32339017],\n",
       "       [-0.75301257,  0.32710408,  0.49684413,  0.28128438],\n",
       "       [-0.37295365, -0.68251946,  0.21788421, -0.58957547],\n",
       "       [-0.2411372 , -0.57844775, -0.37222626,  0.68461571]])"
      ]
     },
     "execution_count": 738,
     "metadata": {},
     "output_type": "execute_result"
    }
   ],
   "source": [
    "U[:,:k]"
   ]
  },
  {
   "cell_type": "code",
   "execution_count": 739,
   "metadata": {
    "collapsed": false
   },
   "outputs": [
    {
     "data": {
      "text/plain": [
       "array([[-0.60176255, -0.73821769, -0.13428175, -0.27365103],\n",
       "       [ 0.77798126, -0.61137578,  0.09583771, -0.10853543],\n",
       "       [-0.09936173, -0.28428032,  0.07008324,  0.95099963],\n",
       "       [-0.15084505, -0.02095235,  0.9838048 , -0.09452452]])"
      ]
     },
     "execution_count": 739,
     "metadata": {},
     "output_type": "execute_result"
    }
   ],
   "source": [
    "VT[:k,:]"
   ]
  },
  {
   "cell_type": "code",
   "execution_count": 729,
   "metadata": {
    "collapsed": false
   },
   "outputs": [
    {
     "data": {
      "text/plain": [
       "array([[ 32.63308966,   0.        ],\n",
       "       [  0.        ,   6.78833256]])"
      ]
     },
     "execution_count": 729,
     "metadata": {},
     "output_type": "execute_result"
    }
   ],
   "source": [
    "np.diag(S)[:k, :k]"
   ]
  },
  {
   "cell_type": "code",
   "execution_count": 746,
   "metadata": {
    "collapsed": false
   },
   "outputs": [
    {
     "data": {
      "text/plain": [
       "array([[ -5.82625026],\n",
       "       [-12.80121364],\n",
       "       [ -1.49181458],\n",
       "       [ -0.48227441]])"
      ]
     },
     "execution_count": 746,
     "metadata": {},
     "output_type": "execute_result"
    }
   ],
   "source": [
    "U[:,:1] * a[:, :1]"
   ]
  },
  {
   "cell_type": "code",
   "execution_count": null,
   "metadata": {
    "collapsed": true
   },
   "outputs": [],
   "source": []
  }
 ],
 "metadata": {
  "kernelspec": {
   "display_name": "Python 2",
   "language": "python",
   "name": "python2"
  },
  "language_info": {
   "codemirror_mode": {
    "name": "ipython",
    "version": 2
   },
   "file_extension": ".py",
   "mimetype": "text/x-python",
   "name": "python",
   "nbconvert_exporter": "python",
   "pygments_lexer": "ipython2",
   "version": "2.7.10"
  }
 },
 "nbformat": 4,
 "nbformat_minor": 0
}
