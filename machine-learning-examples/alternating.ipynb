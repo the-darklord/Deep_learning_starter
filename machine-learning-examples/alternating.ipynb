{
 "cells": [
  {
   "cell_type": "code",
   "execution_count": 11,
   "metadata": {
    "collapsed": false
   },
   "outputs": [],
   "source": [
    "%matplotlib inline\n",
    "\n",
    "import matplotlib as mpl\n",
    "import matplotlib.pyplot as plt\n",
    "import numpy as np\n",
    "\n",
    "\n",
    "\n",
    "# W_true = np.random.randn(M,K)\n",
    "# H_true = np.random.randn(K,N)\n",
    "\n",
    "# X = W_true.dot(H_true)\n",
    "# X = X+0.01*np.random.randn(M,N)\n",
    "X = np.array([[ 5.,  5.,  0.,  4.,  1.,  0.,  0.,  0.,  0.,  1.,  5.,  0.],\n",
    "       [ 4.,  0.,  4.,  5.,  0.,  2.,  0.,  1.,  1.,  1.,  4.,  5.],\n",
    "       [ 0.,  0.,  0.,  2.,  0.,  1.,  0.,  0.,  0.,  0.,  0.,  0.],\n",
    "       [ 0.,  1.,  0.,  0.,  0.,  4.,  5.,  0.,  4.,  5.,  0.,  1.],\n",
    "       [ 1.,  0.,  1.,  0.,  5.,  0.,  4.,  4.,  5.,  0.,  1.,  1.]])\n",
    "\n",
    "M = X.shape[0]\n",
    "N = X.shape[1]\n",
    "K = 3"
   ]
  },
  {
   "cell_type": "code",
   "execution_count": 17,
   "metadata": {
    "collapsed": true
   },
   "outputs": [],
   "source": []
  },
  {
   "cell_type": "code",
   "execution_count": 21,
   "metadata": {
    "collapsed": false
   },
   "outputs": [
    {
     "name": "stdout",
     "output_type": "stream",
     "text": [
      "66.6787797434\n",
      "0.000376521655613\n",
      "7.43500743418e-05\n",
      "1.61868332186e-05\n",
      "3.53655769926e-06\n",
      "7.73277340903e-07\n",
      "1.69107631575e-07\n",
      "3.69834292453e-08\n",
      "8.08825172207e-09\n",
      "1.76889847362e-09\n"
     ]
    },
    {
     "data": {
      "image/png": "[encoded data removed]",
      "text/plain": [
       "<matplotlib.figure.Figure at 0x10c572630>"
      ]
     },
     "metadata": {},
     "output_type": "display_data"
    },
    {
     "data": {
      "image/png": "[encoded data removed]",
      "text/plain": [
       "<matplotlib.figure.Figure at 0x10c713f98>"
      ]
     },
     "metadata": {},
     "output_type": "display_data"
    },
    {
     "data": {
      "image/png": "[encoded data removed]",
      "text/plain": [
       "<matplotlib.figure.Figure at 0x10c713d68>"
      ]
     },
     "metadata": {},
     "output_type": "display_data"
    },
    {
     "data": {
      "image/png": "[encoded data removed]",
      "text/plain": [
       "<matplotlib.figure.Figure at 0x10cbe8cc0>"
      ]
     },
     "metadata": {},
     "output_type": "display_data"
    }
   ],
   "source": [
    "Mask = (np.random.rand(M,N)<0.4)\n",
    "\n",
    "Mask = np.copy(X)\n",
    "Mask[Mask!=0] = 1\n",
    "Mask\n",
    "\n",
    "# W = np.random.randn(M,K)\n",
    "# H = np.random.randn(K,N)\n",
    "W = np.array([[ 0.18011451,  0.60299404,  0.3177374 ],\n",
    "       [ 0.65611746,  0.2221562 ,  0.11995832],\n",
    "       [ 0.80116047,  0.82407141,  0.79099989],\n",
    "       [ 0.66004068,  0.55214108,  0.82858835],\n",
    "       [ 0.05662817,  0.99133845,  0.28844242]])\n",
    "H = np.array([[ 0.12592786,  0.75672181,  0.30747259,  0.56041327,  0.54473678,\n",
    "         0.89090891,  0.12236257,  0.3108339 ,  0.46744222,  0.89925064,\n",
    "         0.09402283,  0.9283946 ],\n",
    "       [ 0.21140259,  0.67445654,  0.14928717,  0.84047072,  0.16396425,\n",
    "         0.03306015,  0.92158905,  0.18943411,  0.40587314,  0.50836581,\n",
    "         0.78039105,  0.54416406],\n",
    "       [ 0.44876138,  0.67787687,  0.18120697,  0.23119679,  0.30702529,\n",
    "         0.52461556,  0.62692945,  0.51883236,  0.63077754,  0.93171459,\n",
    "         0.72034789,  0.63587984]])\n",
    "\n",
    "EPOCH = 1000\n",
    "\n",
    "eta = 0.05\n",
    "\n",
    "for i in range(EPOCH):\n",
    "    dW = -(Mask*(X-W.dot(H))).dot(H.T)\n",
    "    W = W - eta*dW\n",
    "    dH = -W.T.dot((Mask*(X-W.dot(H))))\n",
    "    H = H - eta*dH\n",
    "\n",
    "    if (i%100 == 0):\n",
    "        print(0.5*np.sum((Mask*(X-W.dot(H)))**2))\n",
    "\n",
    "\n",
    "plt.imshow(Mask, interpolation='nearest',cmap=plt.cm.gray_r)\n",
    "plt.title('Mask')\n",
    "plt.show()\n",
    "\n",
    "MX = X.copy()\n",
    "MX[Mask==0] = np.nan\n",
    "\n",
    "plt.imshow(MX, interpolation='nearest')\n",
    "plt.title('Observed Data')\n",
    "plt.show()\n",
    "plt.imshow(W.dot(H), interpolation='nearest')\n",
    "plt.title('Approximation')\n",
    "plt.show()\n",
    "plt.imshow(X, interpolation='nearest')\n",
    "plt.title('True')\n",
    "plt.show()"
   ]
  },
  {
   "cell_type": "code",
   "execution_count": null,
   "metadata": {
    "collapsed": true
   },
   "outputs": [],
   "source": []
  }
 ],
 "metadata": {
  "kernelspec": {
   "display_name": "Python 3",
   "language": "python",
   "name": "python3"
  },
  "language_info": {
   "codemirror_mode": {
    "name": "ipython",
    "version": 3
   },
   "file_extension": ".py",
   "mimetype": "text/x-python",
   "name": "python",
   "nbconvert_exporter": "python",
   "pygments_lexer": "ipython3",
   "version": "3.6.0"
  }
 },
 "nbformat": 4,
 "nbformat_minor": 2
}
