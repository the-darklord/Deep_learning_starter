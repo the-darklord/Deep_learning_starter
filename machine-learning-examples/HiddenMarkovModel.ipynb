{
 "cells": [
  {
   "cell_type": "markdown",
   "metadata": {},
   "source": [
    "https://github.com/atcemgil/notes/blob/master/HiddenMarkovModel.ipynb"
   ]
  },
  {
   "cell_type": "code",
   "execution_count": 1,
   "metadata": {
    "collapsed": false
   },
   "outputs": [],
   "source": [
    "%matplotlib inline\n",
    "#import networkx as nx\n",
    "#import pygraphviz\n",
    "import pyparsing\n",
    "import numpy as np\n",
    "import matplotlib.pylab as plt\n",
    "\n",
    "from IPython.display import Math"
   ]
  },
  {
   "cell_type": "code",
   "execution_count": 7,
   "metadata": {
    "collapsed": true
   },
   "outputs": [],
   "source": [
    "# An implementation of the forward backward algorithm\n",
    "# For numerical stability, we calculate everything in the log domain\n",
    "\n",
    "def normalize_exp(log_P, axis=None):\n",
    "    a = np.max(log_P, keepdims=True, axis=axis)\n",
    "    P = normalize(np.exp(log_P - a), axis=axis)\n",
    "    return P\n",
    "\n",
    "\n",
    "def normalize(A, axis=None):\n",
    "    Z = np.sum(A, axis=axis,keepdims=True)\n",
    "    idx = np.where(Z == 0)\n",
    "    Z[idx] = 1\n",
    "    return A/Z\n",
    "\n",
    "def randgen(pr, N=1): \n",
    "    L = len(pr)\n",
    "    return np.random.choice(range(L), size=N, replace=True, p=pr)\n",
    "\n",
    "def predict(A, lp):\n",
    "    lstar = np.max(lp)\n",
    "    return lstar + np.log(np.dot(A,np.exp(lp-lstar)))\n",
    "\n",
    "def postdict(A, lp):\n",
    "    lstar = np.max(lp)\n",
    "    return lstar + np.log(np.dot(np.exp(lp-lstar), A))\n",
    "\n",
    "def update(y, logB, lp):\n",
    "    return logB[y,:] + lp\n",
    "\n",
    "def log_sum_exp_naive(l):\n",
    "    return np.log(np.sum(np.exp(l)))\n",
    "\n",
    "def log_sum_exp(l, axis=0):\n",
    "    l_star = np.max(l, axis=axis, keepdims=True)\n",
    "    return l_star + np.log(np.sum(np.exp(l - l_star),axis=axis,keepdims=True)) \n"
   ]
  },
  {
   "cell_type": "code",
   "execution_count": 12,
   "metadata": {
    "collapsed": false
   },
   "outputs": [],
   "source": [
    "# Generate Parameter\n",
    "def do_something_magical(S, R, T):\n",
    "    A = np.random.dirichlet(0.7*np.ones(S), S).T\n",
    "    B = np.random.dirichlet(0.7*np.ones(R), S).T\n",
    "    p = np.random.dirichlet(0.7*np.ones(S)).T\n",
    "\n",
    "    logA = np.log(A)\n",
    "    logB = np.log(B)\n",
    "\n",
    "    # Generate Data\n",
    "\n",
    "    x = np.zeros(T,int)\n",
    "    y = np.zeros(T,int)\n",
    "    for t in range(T):\n",
    "        if t==0:\n",
    "            x[t] = randgen(p)\n",
    "        else:\n",
    "            x[t] = randgen(A[:,x[t-1]])\n",
    "\n",
    "        y[t] = randgen(B[:,x[t]])\n",
    "    print \"x\", x\n",
    "    print \"y\", y\n",
    "\n",
    "\n",
    "\n",
    "    # Forward Pass\n",
    "\n",
    "    # Python indexes starting from zero so\n",
    "    # log \\alpha_{k|k} will be in log_alpha[:,k-1]\n",
    "    # log \\alpha_{k|k-1} will be in log_alpha_pred[:,k-1]\n",
    "    log_alpha  = np.zeros((S, T))\n",
    "    log_alpha_pred = np.zeros((S, T))\n",
    "    for k in range(T):\n",
    "        if k==0:\n",
    "            log_alpha_pred[:,0] = np.log(p)\n",
    "        else:\n",
    "            log_alpha_pred[:,k] = predict(A, log_alpha[:,k-1])\n",
    "\n",
    "        log_alpha[:,k] = update(y[k], logB, log_alpha_pred[:,k])\n",
    "    \n",
    "\n",
    "    # Backward Pass\n",
    "    log_beta  = np.zeros((S, T))\n",
    "    log_beta_post = np.zeros((S, T))\n",
    "    \n",
    "    for k in range(T-1,-1,-1):\n",
    "        if k==T-1:\n",
    "            log_beta_post[:,k] = np.zeros(S)\n",
    "        else:\n",
    "            log_beta_post[:,k] = postdict(A, log_beta[:,k+1])\n",
    "\n",
    "        log_beta[:,k] = update(y[k], logB, log_beta_post[:,k])\n",
    "\n",
    "    log_gamma = log_alpha + log_beta_post\n",
    "\n",
    "    # Correction Smoother\n",
    "    # For numerical stability, we calculate everything in the log domain\n",
    "    log_gamma_corr = np.zeros_like(log_alpha)\n",
    "    log_gamma_corr[:,T-1] = log_alpha[:,T-1]\n",
    "\n",
    "    for k in range(T-2,-1,-1):\n",
    "        log_old_pairwise_marginal = log_alpha[:,k].reshape(1,S) + logA \n",
    "        log_old_marginal = predict(A, log_alpha[:,k])\n",
    "        log_new_pairwise_marginal = log_old_pairwise_marginal + log_gamma_corr[:,k+1].reshape(S,1) - log_old_marginal.reshape(S,1)\n",
    "        log_gamma_corr[:,k] = log_sum_exp(log_new_pairwise_marginal, axis=0).reshape(S)\n",
    "\n",
    "\n",
    "    # Verify that result coincide\n",
    "\n",
    "    gam = normalize_exp(log_gamma, axis=0)\n",
    "    gam_corr = normalize_exp(log_gamma_corr, axis=0)\n",
    "\n",
    "    plt.figure(figsize=(20,10))\n",
    "    plt.subplot(4,1,1)\n",
    "    plt.imshow(log_alpha, interpolation='nearest')\n",
    "    plt.subplot(4,1,2)\n",
    "    plt.imshow(log_beta, interpolation='nearest')\n",
    "\n",
    "    plt.show()\n",
    "    #print(log_gamma)\n",
    "    #print(log_gamma_corr)\n",
    "\n"
   ]
  },
  {
   "cell_type": "code",
   "execution_count": 13,
   "metadata": {
    "collapsed": false
   },
   "outputs": [
    {
     "name": "stdout",
     "output_type": "stream",
     "text": [
      "x [4 4 6 3 6 5 1 2 7 7]\n",
      "y [2 2 1 1 0 2 1 0 2 2]\n"
     ]
    },
    {
     "data": {
      "image/png": "[encoded data removed]",
      "text/plain": [
       "<matplotlib.figure.Figure at 0x106c73a90>"
      ]
     },
     "metadata": {},
     "output_type": "display_data"
    }
   ],
   "source": [
    "do_something_magical(8, 3, 10)"
   ]
  },
  {
   "cell_type": "code",
   "execution_count": 14,
   "metadata": {
    "collapsed": false
   },
   "outputs": [
    {
     "name": "stdout",
     "output_type": "stream",
     "text": [
      "x [6 4 0 5 7 2 6 7 2 6 1 3 6 1 3 7 2 6 0 3]\n",
      "y [2 2 1 0 2 2 2 2 0 0 1 2 0 2 0 2 0 0 1 2]\n"
     ]
    },
    {
     "data": {
      "image/png": "[encoded data removed]",
      "text/plain": [
       "<matplotlib.figure.Figure at 0x1071f5310>"
      ]
     },
     "metadata": {},
     "output_type": "display_data"
    }
   ],
   "source": [
    "do_something_magical(8, 3, 20)"
   ]
  },
  {
   "cell_type": "code",
   "execution_count": 15,
   "metadata": {
    "collapsed": false
   },
   "outputs": [
    {
     "name": "stdout",
     "output_type": "stream",
     "text": [
      "x [5 0 7 1 5 0 4 7 1 5 3 2 4 6 3 1 3 2 2 0 4 7 1 5 6 6 6 2 7 3 1 5 1 7 1 7 3\n",
      " 1 2 5 2 2 2 0 0 4 6 5 1 5]\n",
      "y [2 0 2 0 0 0 2 2 0 1 0 1 1 1 2 0 0 2 1 1 1 2 0 1 1 1 1 1 2 1 0 1 0 2 2 0 0\n",
      " 0 1 0 1 1 2 1 1 1 1 1 2 0]\n"
     ]
    },
    {
     "data": {
      "image/png": "[encoded data removed]",
      "text/plain": [
       "<matplotlib.figure.Figure at 0x107397490>"
      ]
     },
     "metadata": {},
     "output_type": "display_data"
    }
   ],
   "source": [
    "do_something_magical(8, 3, 50)"
   ]
  },
  {
   "cell_type": "code",
   "execution_count": 16,
   "metadata": {
    "collapsed": false
   },
   "outputs": [
    {
     "ename": "NameError",
     "evalue": "name 'do_something_magic' is not defined",
     "output_type": "error",
     "traceback": [
      "\u001b[0;31m---------------------------------------------------------------------------\u001b[0m",
      "\u001b[0;31mNameError\u001b[0m                                 Traceback (most recent call last)",
      "\u001b[0;32m<ipython-input-16-8a867177587e>\u001b[0m in \u001b[0;36m<module>\u001b[0;34m()\u001b[0m\n\u001b[0;32m----> 1\u001b[0;31m \u001b[0mdo_something_magic\u001b[0m\u001b[0;34m(\u001b[0m\u001b[0;36m8\u001b[0m\u001b[0;34m,\u001b[0m \u001b[0;36m3\u001b[0m\u001b[0;34m,\u001b[0m \u001b[0;36m200\u001b[0m\u001b[0;34m)\u001b[0m\u001b[0;34m\u001b[0m\u001b[0m\n\u001b[0m",
      "\u001b[0;31mNameError\u001b[0m: name 'do_something_magic' is not defined"
     ]
    }
   ],
   "source": [
    "do_something_magic(8, 3, 200)"
   ]
  },
  {
   "cell_type": "code",
   "execution_count": null,
   "metadata": {
    "collapsed": false
   },
   "outputs": [],
   "source": [
    "do_something_magical(8, 3, 20)"
   ]
  },
  {
   "cell_type": "code",
   "execution_count": null,
   "metadata": {
    "collapsed": false
   },
   "outputs": [],
   "source": [
    "do_something_magical(8, 400, 20)"
   ]
  },
  {
   "cell_type": "code",
   "execution_count": null,
   "metadata": {
    "collapsed": false
   },
   "outputs": [],
   "source": [
    "do_something_magical(8, 1000, 50)"
   ]
  },
  {
   "cell_type": "code",
   "execution_count": 17,
   "metadata": {
    "collapsed": false
   },
   "outputs": [
    {
     "name": "stdout",
     "output_type": "stream",
     "text": [
      "x [2 2 3 0 7 2 4 4 4 3 6 6 3 2 2 6 5 1 3 3 6 0 0 2 3 0 2 2 3 6 3 6 3 2 6 2 5\n",
      " 5 7 0 5 2 2 5 4 4 3 6 0 1]\n",
      "y [8606 9528  635 8232 1145  844 8807 5267 4773 2406 6240 8733 4205 5966 4706\n",
      " 5538  326 4778   24  772 6076 2448 4654 9060 7480 9705 2270 2675  664 4054\n",
      "  985  343 3720 4446   19 3575 2144 2765 3655 4380 7330 9859 1695 1283 2439\n",
      " 1291 7347 6525 2611 7024]\n"
     ]
    },
    {
     "data": {
      "image/png": "[encoded data removed]",
      "text/plain": [
       "<matplotlib.figure.Figure at 0x1072428d0>"
      ]
     },
     "metadata": {},
     "output_type": "display_data"
    }
   ],
   "source": [
    "do_something_magical(8, 10000, 50)"
   ]
  },
  {
   "cell_type": "code",
   "execution_count": 18,
   "metadata": {
    "collapsed": false
   },
   "outputs": [
    {
     "name": "stdout",
     "output_type": "stream",
     "text": [
      "x [6 9 8 4 2 9 7 8 7 8 4 5 0 1 3 6 8 4 6 8 9 7 4 2 9 3 6 1 4 4 2 2 7 8 7 8 6\n",
      " 8 5 8 8 7 8 9 7 7 1 7 7 8 8 7 7 8 5 9 6 4 5 1 3 7 0 8 7 1 7 8 1 1 7 7 8 7\n",
      " 9 3 5 7 8 8 7 8 5 9 3 6 6 4 7 0 3 6 5 7 8 4 4 2 9 7]\n",
      "y [715 918   8 553 396 842 427 441 451 917 748 121 281 388 346 992 911 584\n",
      " 532 558  94 245 319 422 971 409 768 513 936 701 279 606 243 361  71 497\n",
      " 172 737  33  60  65 343 331 375 992 774  33 862 328 841 190 133 604  81\n",
      " 945 599 528  74 222 423 787 219 443  10 226 328 804 919 639 245 841 316\n",
      " 574 982 310 776  89 808 699 905 519 300 299 626 273 658 124 863  62 504\n",
      " 676 313 617 127 193 728 901  48 999 597]\n"
     ]
    },
    {
     "data": {
      "image/png": "[encoded data removed]",
      "text/plain": [
       "<matplotlib.figure.Figure at 0x107556390>"
      ]
     },
     "metadata": {},
     "output_type": "display_data"
    }
   ],
   "source": [
    "do_something_magical(10, 1000, 100)"
   ]
  },
  {
   "cell_type": "code",
   "execution_count": 20,
   "metadata": {
    "collapsed": false
   },
   "outputs": [
    {
     "name": "stdout",
     "output_type": "stream",
     "text": [
      "x [1 0 0 0 0 0 0 0 0 0 0 0 0 0 0 0 0 0 0 0 0 0 0 0 0 0 0 0 0 0 0 0 0 0 0 0 0\n",
      " 0 0 0 0 0 0 0 0 0 0 0 0 0 0 0 0 0 0 0 0 0 0 0 0 0 0 0 0 0 0 0 0 0 0 0 0 0\n",
      " 0 0 0 0 0 0 0 0 0 0 0 0 0 0 0 0 0 1 1 1 1 1 0 0 0 0]\n",
      "y [762 842 476 662 980  81 774 868 237 604 495 767 939 335 701 109 761 660\n",
      " 989  16 228 744 869 759 229 772 620  36 835 205  70 290 892 121 330 761\n",
      " 379 912 650  30 823 743 137 698 435 791 751 495 120 768 786 506 987 761\n",
      " 169  51 704 690 390 470 545 537 104 394 118 330 918 965 602 296 473 341\n",
      " 609 325 692 541 159 811 475 806 593 561 660  55 871 782 602 747 341 241\n",
      "  37 960 632 769 136 463 644 899 294 883]\n"
     ]
    },
    {
     "data": {
      "image/png": "[encoded data removed]",
      "text/plain": [
       "<matplotlib.figure.Figure at 0x107228e90>"
      ]
     },
     "metadata": {},
     "output_type": "display_data"
    }
   ],
   "source": [
    "do_something_magical(2, 1000, 100)"
   ]
  },
  {
   "cell_type": "code",
   "execution_count": null,
   "metadata": {
    "collapsed": true
   },
   "outputs": [],
   "source": []
  }
 ],
 "metadata": {
  "kernelspec": {
   "display_name": "Python 2",
   "language": "python",
   "name": "python2"
  },
  "language_info": {
   "codemirror_mode": {
    "name": "ipython",
    "version": 2
   },
   "file_extension": ".py",
   "mimetype": "text/x-python",
   "name": "python",
   "nbconvert_exporter": "python",
   "pygments_lexer": "ipython2",
   "version": "2.7.10"
  }
 },
 "nbformat": 4,
 "nbformat_minor": 0
}
