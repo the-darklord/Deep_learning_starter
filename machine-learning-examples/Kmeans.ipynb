{
 "cells": [
  {
   "cell_type": "code",
   "execution_count": 2,
   "metadata": {
    "collapsed": true
   },
   "outputs": [],
   "source": [
    "%matplotlib inline\n",
    "import numpy as np\n",
    "import pandas as pd\n",
    "from IPython import display\n",
    "import matplotlib.pylab as plt\n",
    "import time\n",
    "from IPython import display\n"
   ]
  },
  {
   "cell_type": "code",
   "execution_count": 29,
   "metadata": {
    "collapsed": false
   },
   "outputs": [
    {
     "name": "stdout",
     "output_type": "stream",
     "text": [
      "a:  [0 1 0 1 1 1]\n",
      "\n",
      "mu, c 0 0\n",
      "[[ 0.18709855  0.        ]\n",
      " [-0.12785456  0.        ]]\n",
      "\n",
      "mu, c 1 1\n",
      "[[ 0.18709855 -0.14170366]\n",
      " [-0.12785456  0.41424891]]\n",
      "\n",
      "mu, c 0 2\n",
      "[[ 0.52861541 -0.14170366]\n",
      " [ 0.00111371  0.41424891]]\n",
      "\n",
      "mu, c 1 3\n",
      "[[ 0.52861541  0.89944324]\n",
      " [ 0.00111371  1.09908324]]\n",
      "\n",
      "mu, c 1 4\n",
      "[[  5.28615411e-01   1.89455526e+00]\n",
      " [  1.11371268e-03   1.83856955e+00]]\n",
      "\n",
      "mu, c 1 5\n",
      "[[  5.28615411e-01   2.55948263e+00]\n",
      " [  1.11371268e-03   2.44099325e+00]]\n"
     ]
    },
    {
     "data": {
      "image/png": "[encoded data removed]",
      "text/plain": [
       "<matplotlib.figure.Figure at 0x10e26d550>"
      ]
     },
     "metadata": {},
     "output_type": "display_data"
    }
   ],
   "source": [
    "\n",
    "N = 6\n",
    "D = 2\n",
    "X1 = np.random.randn(D,N/2)\n",
    "X2 = 0.8*np.random.randn(D,N/2) + 3*np.ones((D, N/2))\n",
    "\n",
    "X = np.hstack((np.mat(X1), np.mat(X2)))\n",
    "\n",
    "#plt.plot(X[0,:], X[1,:],'x')\n",
    "#plt.show()\n",
    "\n",
    "K = 2;\n",
    "\n",
    "W = np.mat('[3,0;0,1]')\n",
    "mu = X[:,0:K]\n",
    "#plt.plot(mu[0,:],mu[1,:],'ro')\n",
    "\n",
    "EP = 200\n",
    "\n",
    "fig = plt.figure(figsize=(8,10))\n",
    "plt.plot(X[0,:], X[1,:],'kx')\n",
    "\n",
    "ax = fig.gca()\n",
    "ln = plt.Line2D(xdata=mu[0,:], ydata=mu[1,:], marker='o', color='r',linestyle=None,linewidth=0)\n",
    "ax.add_line(ln)\n",
    "\n",
    "eta = 0.3\n",
    "#print X\n",
    "#print mu\n",
    "\n",
    "dist = np.zeros((N,K))\n",
    "for i in range(N):\n",
    "    for c in range(K):\n",
    "        err = X[:,i]-mu[:,c]\n",
    "        dist[i,c] = float(err.T*W.I*err)\n",
    "#         print\n",
    "#         print \"i, c\", i, c\n",
    "#         print dist\n",
    "\n",
    "a = np.argmin(dist, axis=1)\n",
    "print \"a: \", a\n",
    "\n",
    "mu = np.mat(np.zeros((D,K)))\n",
    "count = np.zeros((K))\n",
    "for i,c in enumerate(a):\n",
    "    # count[c] += 1\n",
    "    #mu[:,c] = (count[c]-1)/count[c]*mu[:,c] + 1/count[c]*X[:,i]\n",
    "    mu[:,c] = (1-eta)*mu[:,c] + eta*X[:,i]\n",
    "    print \"\\nmu, c\", c, i\n",
    "    print mu\n",
    "\n",
    "# ------------\n",
    "\n",
    "for e in range(0):\n",
    "    \n",
    "    dist = np.zeros((N,K))\n",
    "    for i in range(N):\n",
    "        for c in range(K):\n",
    "            err = X[:,i]-mu[:,c]\n",
    "            dist[i,c] = float(err.T*W.I*err)\n",
    "    \n",
    "    # Assignments\n",
    "    a = np.argmin(dist, axis=1)\n",
    "    \n",
    "    mu = np.mat(np.zeros((D,K)))\n",
    "    count = np.zeros((K))\n",
    "    for i,c in enumerate(a):\n",
    "        count[c] += 1\n",
    "        #mu[:,c] = (count[c]-1)/count[c]*mu[:,c] + 1/count[c]*X[:,i]\n",
    "        mu[:,c] = (1-eta)*mu[:,c] + eta*X[:,i]\n",
    "    \n",
    "    ln.set_xdata(mu[0,:])\n",
    "    ln.set_ydata(mu[1,:])\n",
    "    \n",
    "    #plt.subplot(EP,1,e+1)\n",
    "    display.clear_output(wait=True)\n",
    "    display.display(plt.gcf())\n",
    "    time.sleep(0.1)\n",
    "    plt.plot(X[0,:], X[1,:],'kx')\n",
    "    #plt.plot(mu[0,:],mu[1,:],'ro')\n",
    "\n",
    "plt.show()\n",
    "    "
   ]
  },
  {
   "cell_type": "code",
   "execution_count": null,
   "metadata": {
    "collapsed": true
   },
   "outputs": [],
   "source": []
  },
  {
   "cell_type": "code",
   "execution_count": 19,
   "metadata": {
    "collapsed": false
   },
   "outputs": [
    {
     "data": {
      "text/plain": [
       "matrix([[4, 2, 7],\n",
       "        [0, 7, 1],\n",
       "        [9, 3, 2]])"
      ]
     },
     "execution_count": 19,
     "metadata": {},
     "output_type": "execute_result"
    }
   ],
   "source": [
    "a = np.mat([ [4, 2, 7], [0, 7, 1], [9, 3, 2] ])\n",
    "a"
   ]
  },
  {
   "cell_type": "code",
   "execution_count": 23,
   "metadata": {
    "collapsed": false
   },
   "outputs": [
    {
     "data": {
      "text/plain": [
       "matrix([[1],\n",
       "        [0],\n",
       "        [2]])"
      ]
     },
     "execution_count": 23,
     "metadata": {},
     "output_type": "execute_result"
    }
   ],
   "source": [
    "np.argmin(a, axis=1)"
   ]
  },
  {
   "cell_type": "code",
   "execution_count": null,
   "metadata": {
    "collapsed": true
   },
   "outputs": [],
   "source": []
  }
 ],
 "metadata": {
  "kernelspec": {
   "display_name": "Python 2",
   "language": "python",
   "name": "python2"
  },
  "language_info": {
   "codemirror_mode": {
    "name": "ipython",
    "version": 2
   },
   "file_extension": ".py",
   "mimetype": "text/x-python",
   "name": "python",
   "nbconvert_exporter": "python",
   "pygments_lexer": "ipython2",
   "version": "2.7.10"
  }
 },
 "nbformat": 4,
 "nbformat_minor": 0
}
