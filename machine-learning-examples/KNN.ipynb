{
 "cells": [
  {
   "cell_type": "code",
   "execution_count": 102,
   "metadata": {
    "collapsed": true
   },
   "outputs": [],
   "source": [
    "import numpy as np\n",
    "import pandas as pd\n",
    "from matplotlib import pylab as plt\n",
    "from collections import Counter\n",
    "%matplotlib inline"
   ]
  },
  {
   "cell_type": "code",
   "execution_count": 190,
   "metadata": {
    "collapsed": false
   },
   "outputs": [],
   "source": [
    "df = pd.read_csv(\"data/iris.txt\", delimiter=\" \")\n",
    "#df.sample(5)\n",
    "df = df.sample(60)"
   ]
  },
  {
   "cell_type": "code",
   "execution_count": 191,
   "metadata": {
    "collapsed": false
   },
   "outputs": [],
   "source": [
    "def knn_learn(X, Y, predictX, k=3):\n",
    "    # finding sum of squared errors for each row\n",
    "    errors = np.sum(np.power(X - predictX, 2), axis=1)\n",
    "    \n",
    "    # finding the nearest neighbours\n",
    "    minInd = 0\n",
    "    neighbors = []\n",
    "    for i in range(k):\n",
    "        for j in range(len(errors)):\n",
    "            if errors[j] <= errors[minInd]:\n",
    "                minInd = j\n",
    "        \n",
    "        neighbors.append(\n",
    "            [float(errors[minInd]), float(Y[minInd])] )\n",
    "        errors[minInd] = np.inf\n",
    "    \n",
    "    most_frequent = Counter(np.array(neighbors)[:,1]).most_common()\n",
    "    return most_frequent[0][0]"
   ]
  },
  {
   "cell_type": "code",
   "execution_count": 192,
   "metadata": {
    "collapsed": false
   },
   "outputs": [
    {
     "data": {
      "text/plain": [
       "3.0"
      ]
     },
     "execution_count": 192,
     "metadata": {},
     "output_type": "execute_result"
    }
   ],
   "source": [
    "x = np.mat(df.iloc[:,[0, 1, 2, 3]])\n",
    "y = np.mat(df.iloc[:,[4]])\n",
    "px = np.mat([6.7, 3.3, 5.7, 2.5])\n",
    "knn_learn(x, y, px)"
   ]
  },
  {
   "cell_type": "code",
   "execution_count": null,
   "metadata": {
    "collapsed": true
   },
   "outputs": [],
   "source": []
  }
 ],
 "metadata": {
  "kernelspec": {
   "display_name": "Python 2",
   "language": "python",
   "name": "python2"
  },
  "language_info": {
   "codemirror_mode": {
    "name": "ipython",
    "version": 2
   },
   "file_extension": ".py",
   "mimetype": "text/x-python",
   "name": "python",
   "nbconvert_exporter": "python",
   "pygments_lexer": "ipython2",
   "version": "2.7.6"
  }
 },
 "nbformat": 4,
 "nbformat_minor": 0
}
