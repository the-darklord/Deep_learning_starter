{
 "cells": [
  {
   "cell_type": "code",
   "execution_count": 1,
   "metadata": {
    "collapsed": true
   },
   "outputs": [],
   "source": [
    "import numpy as np\n",
    "from matplotlib import pyplot as plt\n",
    "import pandas as pd\n",
    "%matplotlib inline"
   ]
  },
  {
   "cell_type": "markdown",
   "metadata": {},
   "source": [
    "### Preparing training data"
   ]
  },
  {
   "cell_type": "code",
   "execution_count": 2,
   "metadata": {
    "collapsed": false
   },
   "outputs": [
    {
     "data": {
      "text/html": [
       "<div>\n",
       "<table border=\"1\" class=\"dataframe\">\n",
       "  <thead>\n",
       "    <tr style=\"text-align: right;\">\n",
       "      <th></th>\n",
       "      <th>Year</th>\n",
       "      <th>All</th>\n",
       "      <th>Car</th>\n",
       "      <th>Minibus</th>\n",
       "      <th>Bus</th>\n",
       "      <th>SmallTruck</th>\n",
       "      <th>Truck</th>\n",
       "      <th>Motorcycle</th>\n",
       "      <th>SpecialVehicles</th>\n",
       "      <th>Machinery</th>\n",
       "      <th>Tractor</th>\n",
       "    </tr>\n",
       "  </thead>\n",
       "  <tbody>\n",
       "    <tr>\n",
       "      <th>45</th>\n",
       "      <td>2011</td>\n",
       "      <td>16089528</td>\n",
       "      <td>8113111</td>\n",
       "      <td>389435</td>\n",
       "      <td>219906</td>\n",
       "      <td>2611104</td>\n",
       "      <td>728458</td>\n",
       "      <td>2527190</td>\n",
       "      <td>34116</td>\n",
       "      <td>NaN</td>\n",
       "      <td>1466208.0</td>\n",
       "    </tr>\n",
       "    <tr>\n",
       "      <th>46</th>\n",
       "      <td>2012</td>\n",
       "      <td>17033413</td>\n",
       "      <td>8648875</td>\n",
       "      <td>396119</td>\n",
       "      <td>235949</td>\n",
       "      <td>2794606</td>\n",
       "      <td>751650</td>\n",
       "      <td>2657722</td>\n",
       "      <td>33071</td>\n",
       "      <td>NaN</td>\n",
       "      <td>1515421.0</td>\n",
       "    </tr>\n",
       "    <tr>\n",
       "      <th>47</th>\n",
       "      <td>2013</td>\n",
       "      <td>17939447</td>\n",
       "      <td>9283923</td>\n",
       "      <td>421848</td>\n",
       "      <td>219885</td>\n",
       "      <td>2933050</td>\n",
       "      <td>755950</td>\n",
       "      <td>2722826</td>\n",
       "      <td>36148</td>\n",
       "      <td>NaN</td>\n",
       "      <td>1565817.0</td>\n",
       "    </tr>\n",
       "    <tr>\n",
       "      <th>48</th>\n",
       "      <td>2014</td>\n",
       "      <td>18828721</td>\n",
       "      <td>9857915</td>\n",
       "      <td>427264</td>\n",
       "      <td>211200</td>\n",
       "      <td>3062479</td>\n",
       "      <td>773728</td>\n",
       "      <td>2828466</td>\n",
       "      <td>40731</td>\n",
       "      <td>NaN</td>\n",
       "      <td>1626938.0</td>\n",
       "    </tr>\n",
       "    <tr>\n",
       "      <th>49</th>\n",
       "      <td>2015</td>\n",
       "      <td>19882069</td>\n",
       "      <td>10509258</td>\n",
       "      <td>446822</td>\n",
       "      <td>216566</td>\n",
       "      <td>3235304</td>\n",
       "      <td>802615</td>\n",
       "      <td>2938821</td>\n",
       "      <td>45138</td>\n",
       "      <td>NaN</td>\n",
       "      <td>1687545.0</td>\n",
       "    </tr>\n",
       "  </tbody>\n",
       "</table>\n",
       "</div>"
      ],
      "text/plain": [
       "    Year       All       Car  Minibus     Bus  SmallTruck   Truck  Motorcycle  \\\n",
       "45  2011  16089528   8113111   389435  219906     2611104  728458     2527190   \n",
       "46  2012  17033413   8648875   396119  235949     2794606  751650     2657722   \n",
       "47  2013  17939447   9283923   421848  219885     2933050  755950     2722826   \n",
       "48  2014  18828721   9857915   427264  211200     3062479  773728     2828466   \n",
       "49  2015  19882069  10509258   446822  216566     3235304  802615     2938821   \n",
       "\n",
       "    SpecialVehicles  Machinery    Tractor  \n",
       "45            34116        NaN  1466208.0  \n",
       "46            33071        NaN  1515421.0  \n",
       "47            36148        NaN  1565817.0  \n",
       "48            40731        NaN  1626938.0  \n",
       "49            45138        NaN  1687545.0  "
      ]
     },
     "execution_count": 2,
     "metadata": {},
     "output_type": "execute_result"
    }
   ],
   "source": [
    "# X = np.mat(\"[2 3;1 3;5 9; 12 21;15 27;20 35;22 40]\")\n",
    "# Y = np.mat(\"[4 3 8 17 27 35 40]\")\n",
    "# X, Y\n",
    "df = pd.read_csv(\"data/cars.csv\", sep=\";\")\n",
    "\n",
    "def x_normalization(x):\n",
    "    return x - 1960\n",
    "\n",
    "def y_normalization(x):\n",
    "    return x / 1000\n",
    "\n",
    "X = x_normalization(np.matrix(df.Year[0:40]).T)\n",
    "Y = y_normalization(np.matrix(df.Bus[0:40]).T)\n",
    "\n",
    "df[45:]"
   ]
  },
  {
   "cell_type": "markdown",
   "metadata": {},
   "source": [
    "### Plotting the training data"
   ]
  },
  {
   "cell_type": "code",
   "execution_count": 3,
   "metadata": {
    "collapsed": false
   },
   "outputs": [
    {
     "data": {
      "image/png": "[encoded data removed]",
      "text/plain": [
       "<matplotlib.figure.Figure at 0x10a5b2cc0>"
      ]
     },
     "metadata": {},
     "output_type": "display_data"
    }
   ],
   "source": [
    "plt.plot(X+1960, Y, \"bo\")\n",
    "plt.grid(True)"
   ]
  },
  {
   "cell_type": "markdown",
   "metadata": {},
   "source": [
    "### Learning from the trainin data, creating a model\n",
    "So far we have prepared necessary data and gain some insight about it. Now we can start to work on the essential problem: creating models and making predictions using it.\n",
    "\n",
    "Lineare regresstion models can be made in two ways: one of them is to use normal equation form, the other is to use gradient descent as an iterative approach."
   ]
  },
  {
   "cell_type": "code",
   "execution_count": 4,
   "metadata": {
    "collapsed": false
   },
   "outputs": [],
   "source": [
    "def learn_normal_equation(x, y):\n",
    "    \"\"\"\n",
    "    creates a model and returns it.\n",
    "    \"\"\"\n",
    "    x = np.hstack([np.matrix(np.ones(len(X))).T, x])\n",
    "    w = (x.T*x).I * x.T * y\n",
    "    return w"
   ]
  },
  {
   "cell_type": "code",
   "execution_count": 5,
   "metadata": {
    "collapsed": false
   },
   "outputs": [],
   "source": [
    "model = learn_normal_equation(X, Y)"
   ]
  },
  {
   "cell_type": "markdown",
   "metadata": {},
   "source": [
    "### Plotting the best fit curve/model using the training data"
   ]
  },
  {
   "cell_type": "code",
   "execution_count": 6,
   "metadata": {
    "collapsed": false
   },
   "outputs": [
    {
     "data": {
      "image/png": "[encoded data removed]",
      "text/plain": [
       "<matplotlib.figure.Figure at 0x10a72abe0>"
      ]
     },
     "metadata": {},
     "output_type": "display_data"
    }
   ],
   "source": [
    "plt.plot(X, Y, \"bo\")\n",
    "plt.plot(X, np.hstack([np.matrix(np.ones(len(X))).T, X]) * model, \"r-\")\n",
    "plt.grid(True)\n",
    "#plt.xlim(0, X[:,0][-1]+2)"
   ]
  },
  {
   "cell_type": "markdown",
   "metadata": {},
   "source": [
    "### Testing model with test data"
   ]
  },
  {
   "cell_type": "code",
   "execution_count": 7,
   "metadata": {
    "collapsed": false
   },
   "outputs": [],
   "source": [
    "TX = np.matrix(df.Year[40:50]).T - 1960\n",
    "TY = np.matrix(df.Bus[40:50]).T / 1000. # normalizad in million"
   ]
  },
  {
   "cell_type": "code",
   "execution_count": 8,
   "metadata": {
    "collapsed": false
   },
   "outputs": [
    {
     "data": {
      "text/plain": [
       "[<matplotlib.lines.Line2D at 0x10a866ba8>]"
      ]
     },
     "execution_count": 8,
     "metadata": {},
     "output_type": "execute_result"
    },
    {
     "data": {
      "image/png": "[encoded data removed]",
      "text/plain": [
       "<matplotlib.figure.Figure at 0x10a7a22e8>"
      ]
     },
     "metadata": {},
     "output_type": "display_data"
    }
   ],
   "source": [
    "plt.plot(X, Y, \"bo\")\n",
    "plt.plot(TX, TY, \"go\")\n",
    "plt.plot(TX, np.hstack([np.matrix(np.ones(len(TX))).T, TX]) * model, \"r-\")\n",
    "plt.plot(X, np.hstack([np.matrix(np.ones(len(X))).T, X]) * model, \"r-\")"
   ]
  },
  {
   "cell_type": "markdown",
   "metadata": {},
   "source": [
    "# Linear Regression using gradient descent\n",
    "Instead of using normal equation, here we will try to fit a model in an iterative way. Gradient descent is the method we are going to implement as an iterative approach. \n",
    "\n",
    "We use the same data prepared above."
   ]
  },
  {
   "cell_type": "markdown",
   "metadata": {},
   "source": [
    "### Plotting cost function\n",
    "Cost funtion is the function that calculates the sum of squared error according a specific weight value. To plot the cost function, start with a random weight value and calculate the sum of error and repeat this operation by increasing or descreasing the weight value until some arbitrary weight value."
   ]
  },
  {
   "cell_type": "code",
   "execution_count": 9,
   "metadata": {
    "collapsed": false
   },
   "outputs": [
    {
     "data": {
      "image/png": "[encoded data removed]",
      "text/plain": [
       "<matplotlib.figure.Figure at 0x10a75c978>"
      ]
     },
     "metadata": {},
     "output_type": "display_data"
    }
   ],
   "source": [
    "def plot_cost_function(x, y):\n",
    "    N = len(x)\n",
    "    history = []\n",
    "    for i in range(-100, 100):\n",
    "        w = i\n",
    "        sum_error = np.sum(np.power(x * i - y, 2)) / N\n",
    "        history.append([w, sum_error])\n",
    "\n",
    "    history = np.array(history)\n",
    "    plt.plot(history[:,0], history[:,1], \"r\")\n",
    "    plt.xlabel(\"weight value\")\n",
    "    plt.ylabel(\"sum of error\")\n",
    "    plt.show()\n",
    "\n",
    "plot_cost_function(X, Y)"
   ]
  },
  {
   "cell_type": "markdown",
   "metadata": {},
   "source": [
    "As it can be seen, at a particular weight value the sum of error approaches to the global minimum, that is, the sum of error gets its lowest value as possible. Note that this function has only one minimum point which is also its global minimum. Our aim is to find the weight value that gives the lowest cost."
   ]
  },
  {
   "cell_type": "markdown",
   "metadata": {},
   "source": [
    "### Finding the weight by gradient descent"
   ]
  },
  {
   "cell_type": "code",
   "execution_count": 29,
   "metadata": {
    "collapsed": false,
    "scrolled": false
   },
   "outputs": [],
   "source": [
    "def learn_gradient_descent(x, y):\n",
    "    N = len(x)\n",
    "    dimention = x.shape[1]\n",
    "    \n",
    "    w = np.ones((dimention, 1))\n",
    "    eta = 0.0001\n",
    "\n",
    "    i = 0\n",
    "    max_iteration = 1000000\n",
    "    prev_error = np.infty\n",
    "    error = 0\n",
    "    history = []\n",
    "    \n",
    "    while True:\n",
    "        estimation = x * w\n",
    "        error = np.sum(np.power(estimation - y, 2)) / N\n",
    "        gradient = x.T * (estimation - y) / N\n",
    "        w = w - eta * gradient\n",
    "        \n",
    "        history.append([i, error])\n",
    "        \n",
    "        if prev_error * 0.9999 <= error or i == max_iteration:\n",
    "            break\n",
    "\n",
    "        prev_error = error\n",
    "        i += 1\n",
    "        \n",
    "    return w, np.matrix(history)"
   ]
  },
  {
   "cell_type": "markdown",
   "metadata": {},
   "source": [
    "### Debugging gradient descent\n",
    "It is expected that the sum of error will **decrease** in each iterations. Decrement size will get smaller when it approaches to the minimum error. With the `eta` variable, we define how big step we will take in each iteration to the minimum error.\n",
    "\n",
    "Debugging is important for gradient descent algorithms to check if it gets closer to the global minimum. For some reasons, for instance due to inappropriate eta value, gradient descent algorithms **may be too slow; or end up with divergence instead of convergence.**\n",
    "\n",
    "Plotting error for each iterations may help you with debugging."
   ]
  },
  {
   "cell_type": "code",
   "execution_count": 31,
   "metadata": {
    "collapsed": false
   },
   "outputs": [
    {
     "data": {
      "image/png": "[encoded data removed]",
      "text/plain": [
       "<matplotlib.figure.Figure at 0x10a93f208>"
      ]
     },
     "metadata": {},
     "output_type": "display_data"
    }
   ],
   "source": [
    "x = np.hstack([np.ones((len(X), 1)), X])\n",
    "w, history = learn_gradient_descent(x, Y)\n",
    "\n",
    "def plot_error(iterations, errors):\n",
    "    plt.plot(iterations, errors)\n",
    "    plt.xlabel(\"iterations\")\n",
    "    plt.ylabel(\"error\")\n",
    "    plt.show()\n",
    "\n",
    "plot_error(history[:,0], history[:,1])"
   ]
  },
  {
   "cell_type": "markdown",
   "metadata": {},
   "source": [
    "### Making predictions"
   ]
  },
  {
   "cell_type": "markdown",
   "metadata": {},
   "source": [
    "Let's first plot the model on the same figure of the actual data. On this figure, we will visually see how the model fitted."
   ]
  },
  {
   "cell_type": "code",
   "execution_count": 14,
   "metadata": {
    "collapsed": false
   },
   "outputs": [
    {
     "data": {
      "image/png": "[encoded data removed]",
      "text/plain": [
       "<matplotlib.figure.Figure at 0x10f5e10d0>"
      ]
     },
     "metadata": {},
     "output_type": "display_data"
    }
   ],
   "source": [
    "m = np.matrix(np.linspace(-4, 50, 300)).T\n",
    "m = np.hstack([np.matrix(np.ones(len(m))).T, m])\n",
    "plt.plot(x[:,1], Y, \"o\")\n",
    "plt.plot(m[:,1], m * w, \"r-\")\n",
    "plt.grid(True)\n",
    "plt.show()"
   ]
  },
  {
   "cell_type": "code",
   "execution_count": 15,
   "metadata": {
    "collapsed": false
   },
   "outputs": [
    {
     "name": "stdout",
     "output_type": "stream",
     "text": [
      "[[ 51.03482326]]\n",
      "[[ 151.06806996]]\n"
     ]
    }
   ],
   "source": [
    "def predict(x, w):\n",
    "    x = np.hstack([np.matrix(np.ones((len(x), 1))), x])\n",
    "    return x * w\n",
    "\n",
    "print(predict(x_normalization(np.mat(1980)), w))\n",
    "print(predict(x_normalization(np.mat(2020)), w))"
   ]
  },
  {
   "cell_type": "code",
   "execution_count": 16,
   "metadata": {
    "collapsed": false
   },
   "outputs": [
    {
     "data": {
      "image/png": "[encoded data removed]",
      "text/plain": [
       "<matplotlib.figure.Figure at 0x10f8e4e10>"
      ]
     },
     "metadata": {},
     "output_type": "display_data"
    }
   ],
   "source": [
    "X_test = x_normalization(np.matrix(df.Year[40:]).T)\n",
    "Y_test = y_normalization(np.matrix(df.Bus[40:]).T)\n",
    "Y_predicted = predict(X_test, w)\n",
    "\n",
    "m = np.matrix(np.linspace(-4, 60, 300)).T\n",
    "m = np.hstack([np.matrix(np.ones(len(m))).T, m])\n",
    "plt.plot(x[:,1], Y, \"o\")\n",
    "plt.plot(m[:,1], m * w, \"r-\")\n",
    "plt.plot(X_test, Y_test, \"go\")\n",
    "plt.grid(True)\n",
    "plt.show()"
   ]
  }
 ],
 "metadata": {
  "kernelspec": {
   "display_name": "Python 3",
   "language": "python",
   "name": "python3"
  },
  "language_info": {
   "codemirror_mode": {
    "name": "ipython",
    "version": 3
   },
   "file_extension": ".py",
   "mimetype": "text/x-python",
   "name": "python",
   "nbconvert_exporter": "python",
   "pygments_lexer": "ipython3",
   "version": "3.5.0"
  }
 },
 "nbformat": 4,
 "nbformat_minor": 0
}
