{
 "cells": [
  {
   "cell_type": "code",
   "execution_count": 1,
   "metadata": {
    "collapsed": true
   },
   "outputs": [],
   "source": [
    "import numpy as np\n",
    "from matplotlib import pyplot as plt\n",
    "from mpl_toolkits.mplot3d import Axes3D\n",
    "import seaborn as sns\n",
    "sns.set(color_codes=True)\n",
    "\n",
    "%matplotlib inline"
   ]
  },
  {
   "cell_type": "code",
   "execution_count": 275,
   "metadata": {
    "collapsed": true
   },
   "outputs": [],
   "source": [
    "# ilk terimin covarianci hep 1 cikar -2 - -2"
   ]
  },
  {
   "cell_type": "code",
   "execution_count": 298,
   "metadata": {
    "collapsed": false
   },
   "outputs": [
    {
     "name": "stdout",
     "output_type": "stream",
     "text": [
      "[-2.  -1.   0.   3.5  4. ]\n",
      "[  4.1   0.9   2.   12.3  15.8]\n",
      "[ 0.  0.  0.  0.  0.]\n"
     ]
    }
   ],
   "source": [
    "x = np.array([-2, -1, 0, 3.5, 4,]);\n",
    "y = np.array([4.1, 0.9, 2, 12.3, 15.8])\n",
    "\n",
    "N = len(x)\n",
    "m = np.zeros((N))\n",
    "print(x)\n",
    "print(y)\n",
    "print(m)"
   ]
  },
  {
   "cell_type": "code",
   "execution_count": 13,
   "metadata": {
    "collapsed": false
   },
   "outputs": [
    {
     "name": "stdout",
     "output_type": "stream",
     "text": [
      "[[  7.3    16.39 ]\n",
      " [ 16.39   44.037]]\n"
     ]
    }
   ],
   "source": [
    "sigma = np.cov(x, y)\n",
    "print(sigma)"
   ]
  },
  {
   "cell_type": "code",
   "execution_count": 280,
   "metadata": {
    "collapsed": true
   },
   "outputs": [],
   "source": [
    "def cov(x1, x2):\n",
    "    return np.exp(-1.0/2 * np.power(x1 - x2, 2))"
   ]
  },
  {
   "cell_type": "code",
   "execution_count": 299,
   "metadata": {
    "collapsed": false
   },
   "outputs": [
    {
     "name": "stdout",
     "output_type": "stream",
     "text": [
      "[[ 0.  0.  0.  0.  0.]\n",
      " [ 0.  0.  0.  0.  0.]\n",
      " [ 0.  0.  0.  0.  0.]\n",
      " [ 0.  0.  0.  0.  0.]\n",
      " [ 0.  0.  0.  0.  0.]]\n",
      "[[  1.00000000e+00   6.06530660e-01   1.35335283e-01   2.69957850e-07\n",
      "    1.52299797e-08]\n",
      " [  6.06530660e-01   1.00000000e+00   6.06530660e-01   4.00652974e-05\n",
      "    3.72665317e-06]\n",
      " [  1.35335283e-01   6.06530660e-01   1.00000000e+00   2.18749112e-03\n",
      "    3.35462628e-04]\n",
      " [  2.69957850e-07   4.00652974e-05   2.18749112e-03   1.00000000e+00\n",
      "    8.82496903e-01]\n",
      " [  1.52299797e-08   3.72665317e-06   3.35462628e-04   8.82496903e-01\n",
      "    1.00000000e+00]]\n"
     ]
    }
   ],
   "source": [
    "K = np.zeros((N, N))\n",
    "print(K)\n",
    "for i in range(N):\n",
    "    for j in range(i, N):\n",
    "        K[i][j] = cov(x[i], x[j])\n",
    "        K[j][i] = K[i][j]\n",
    "print(K)"
   ]
  },
  {
   "cell_type": "code",
   "execution_count": 159,
   "metadata": {
    "collapsed": false
   },
   "outputs": [
    {
     "data": {
      "text/plain": [
       "<matplotlib.collections.PathCollection at 0x107336eb8>"
      ]
     },
     "execution_count": 159,
     "metadata": {},
     "output_type": "execute_result"
    },
    {
     "data": {
      "image/png": "[encoded data removed]",
      "text/plain": [
       "<matplotlib.figure.Figure at 0x107578470>"
      ]
     },
     "metadata": {},
     "output_type": "display_data"
    }
   ],
   "source": [
    "plt.scatter(x, y)"
   ]
  },
  {
   "cell_type": "code",
   "execution_count": 286,
   "metadata": {
    "collapsed": false
   },
   "outputs": [
    {
     "data": {
      "text/plain": [
       "1.0"
      ]
     },
     "execution_count": 286,
     "metadata": {},
     "output_type": "execute_result"
    }
   ],
   "source": [
    "cov(4, 4) # expected to be 1"
   ]
  },
  {
   "cell_type": "code",
   "execution_count": 297,
   "metadata": {
    "collapsed": false
   },
   "outputs": [
    {
     "name": "stdout",
     "output_type": "stream",
     "text": [
      "[  1.52299797e-08   3.72665317e-06   3.35462628e-04   8.82496903e-01\n",
      "   1.00000000e+00]\n"
     ]
    },
    {
     "data": {
      "text/plain": [
       "(matrix([[ 15.8]]), 1.0)"
      ]
     },
     "execution_count": 297,
     "metadata": {},
     "output_type": "execute_result"
    }
   ],
   "source": [
    "def pred(xp):\n",
    "    K2 = np.zeros((N+1, N+1))\n",
    "    N2 = N + 1\n",
    "    \n",
    "    sigma22 = cov(xp, xp)\n",
    "    K2[N2-1][N2-1] = sigma22\n",
    "    \n",
    "    for i in range(N):\n",
    "        for j in range(i, N):\n",
    "            K2[i][j] = cov(x[i], y[j])\n",
    "            K2[j][i] = K2[i][j]\n",
    "    \n",
    "    for i in range(N):\n",
    "        K2[N2-1][i]= cov(xp, x[i])\n",
    "        K2[i][N2-1]= cov(xp, x[i])\n",
    "\n",
    "    sigma12 = np.array(K2[:N2-1,N2-1])\n",
    "    sigma11 = np.mat(K)\n",
    "    sigma21 = K[N-1:]\n",
    "    print(sigma12)\n",
    "    mp = (sigma12.T * sigma11.I) * np.mat(y).T\n",
    "#     sigmap = sigma22 - np.mat(sigma12).T * sigma11.I * np.mat(sigma12)\n",
    "#     return mp, sigmap\n",
    "    return mp, sigma22\n",
    "\n",
    "pred(4)"
   ]
  },
  {
   "cell_type": "code",
   "execution_count": 285,
   "metadata": {
    "collapsed": false
   },
   "outputs": [
    {
     "data": {
      "image/png": "[encoded data removed]",
      "text/plain": [
       "<matplotlib.figure.Figure at 0x1076ac748>"
      ]
     },
     "metadata": {},
     "output_type": "display_data"
    }
   ],
   "source": [
    "plt.scatter(x, y)\n",
    "def p():\n",
    "    x = np.linspace(-5, 20, 200)\n",
    "    y = np.zeros(200)\n",
    "    yu = np.zeros(200)\n",
    "    yb = np.zeros(200)\n",
    "    for i in range(len(x)):\n",
    "        yp, sigmap = pred(x[i])\n",
    "        \n",
    "        yp = np.asarray(yp)[0][0]\n",
    "        yu[i] = yp - np.sqrt(sigmap)\n",
    "        y[i] = yp\n",
    "#     plt.plot(x, yu)\n",
    "    plt.plot(x, y)\n",
    "p()"
   ]
  },
  {
   "cell_type": "code",
   "execution_count": 135,
   "metadata": {
    "collapsed": false
   },
   "outputs": [
    {
     "data": {
      "text/plain": [
       "9.1176530400000005e+27"
      ]
     },
     "execution_count": 135,
     "metadata": {},
     "output_type": "execute_result"
    }
   ],
   "source": [
    "np.asarray(np.mat([[  9.11765304e+27]]))[0][0]"
   ]
  },
  {
   "cell_type": "code",
   "execution_count": 238,
   "metadata": {
    "collapsed": false
   },
   "outputs": [
    {
     "data": {
      "image/png": "[encoded data removed]",
      "text/plain": [
       "<matplotlib.figure.Figure at 0x106e61ef0>"
      ]
     },
     "metadata": {},
     "output_type": "display_data"
    }
   ],
   "source": [
    "def cov(x1, x2):\n",
    "    return np.exp(-1.0/2 * np.abs(x1 - x2))\n",
    "\n",
    "def pred(xp):\n",
    "    K2 = np.zeros((N+1, N+1))\n",
    "    N2 = N + 1\n",
    "    \n",
    "    sigma22 = cov(xp, xp)\n",
    "    K2[N2-1][N2-1] = sigma22\n",
    "    \n",
    "    for i in range(N):\n",
    "        for j in range(i, N):\n",
    "            K2[i][j] = cov(x[i], y[j])\n",
    "            K2[j][i] = K2[i][j]\n",
    "    \n",
    "    for i in range(N):\n",
    "        K2[N2-1][i]= cov(xp, x[i])\n",
    "        K2[i][N2-1]= cov(xp, x[i])\n",
    "    \n",
    "    sigma12 = np.array(K2[:N2-1,N2-1])\n",
    "    sigma11 = np.mat(K)\n",
    "    sigma21 = K[N-1:]\n",
    "#     print(sigma12)\n",
    "#     print(sigma11)\n",
    "    mp = (sigma12.T * sigma11.I) * np.mat(y).T\n",
    "#     sigmap = sigma11 - np.mat(sigma12) * sigma21.T\n",
    "    return mp, sigma22\n",
    "\n",
    "plt.scatter(x, y)\n",
    "def p():\n",
    "    x = np.linspace(-10, 10, 200)\n",
    "    y = np.zeros(200)\n",
    "    yu = np.zeros(200)\n",
    "    yb = np.zeros(200)\n",
    "    for i in range(len(x)):\n",
    "        yp, sigmap = pred(x[i])\n",
    "        \n",
    "        yp = np.asarray(yp)[0][0]\n",
    "        yu[i] = yp - np.sqrt(sigmap) * 3\n",
    "        y[i] = yp\n",
    "#     plt.plot(x, yu)\n",
    "    plt.plot(x, y)\n",
    "p()"
   ]
  },
  {
   "cell_type": "code",
   "execution_count": 189,
   "metadata": {
    "collapsed": false
   },
   "outputs": [
    {
     "data": {
      "text/plain": [
       "array([[  1.00000000e+00,   6.06530660e-01,   1.35335283e-01,\n",
       "          2.69957850e-07,   1.52299797e-08],\n",
       "       [  6.06530660e-01,   1.00000000e+00,   6.06530660e-01,\n",
       "          4.00652974e-05,   3.72665317e-06],\n",
       "       [  1.35335283e-01,   6.06530660e-01,   1.00000000e+00,\n",
       "          2.18749112e-03,   3.35462628e-04],\n",
       "       [  2.69957850e-07,   4.00652974e-05,   2.18749112e-03,\n",
       "          1.00000000e+00,   8.82496903e-01],\n",
       "       [  1.52299797e-08,   3.72665317e-06,   3.35462628e-04,\n",
       "          8.82496903e-01,   1.00000000e+00]])"
      ]
     },
     "execution_count": 189,
     "metadata": {},
     "output_type": "execute_result"
    }
   ],
   "source": [
    "K"
   ]
  },
  {
   "cell_type": "code",
   "execution_count": 209,
   "metadata": {
    "collapsed": false
   },
   "outputs": [
    {
     "data": {
      "text/plain": [
       "array([[  1.52299797e-08,   3.72665317e-06,   3.35462628e-04,\n",
       "          8.82496903e-01,   1.00000000e+00]])"
      ]
     },
     "execution_count": 209,
     "metadata": {},
     "output_type": "execute_result"
    }
   ],
   "source": [
    "K[N-1:]"
   ]
  },
  {
   "cell_type": "code",
   "execution_count": null,
   "metadata": {
    "collapsed": true
   },
   "outputs": [],
   "source": []
  }
 ],
 "metadata": {
  "kernelspec": {
   "display_name": "Python 3",
   "language": "python",
   "name": "python3"
  },
  "language_info": {
   "codemirror_mode": {
    "name": "ipython",
    "version": 3
   },
   "file_extension": ".py",
   "mimetype": "text/x-python",
   "name": "python",
   "nbconvert_exporter": "python",
   "pygments_lexer": "ipython3",
   "version": "3.5.2"
  }
 },
 "nbformat": 4,
 "nbformat_minor": 1
}
